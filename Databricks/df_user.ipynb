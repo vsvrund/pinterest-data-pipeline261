{
 "cells": [
  {
   "cell_type": "code",
   "execution_count": 0,
   "metadata": {
    "application/vnd.databricks.v1+cell": {
     "cellMetadata": {
      "byteLimit": 2048000,
      "rowLimit": 10000
     },
     "inputWidgets": {},
     "nuid": "b499303a-8161-4d5e-9b5d-c061070bd200",
     "showTitle": false,
     "title": ""
    }
   },
   "outputs": [
    {
     "output_type": "display_data",
     "data": {
      "text/html": [
       "<style scoped>\n",
       "  .ansiout {\n",
       "    display: block;\n",
       "    unicode-bidi: embed;\n",
       "    white-space: pre-wrap;\n",
       "    word-wrap: break-word;\n",
       "    word-break: break-all;\n",
       "    font-family: \"Menlo\", \"Monaco\", \"Consolas\", \"Ubuntu Mono\", \"Source Code Pro\", monospace;\n",
       "    font-size: 13px;\n",
       "    color: #555;\n",
       "    margin-left: 4px;\n",
       "    line-height: 19px;\n",
       "  }\n",
       "</style>\n",
       "<div class=\"ansiout\">Out[2]: True</div>"
      ]
     },
     "metadata": {
      "application/vnd.databricks.v1+output": {
       "addedWidgets": {},
       "arguments": {},
       "data": "<div class=\"ansiout\">Out[2]: True</div>",
       "datasetInfos": [],
       "metadata": {},
       "removedWidgets": [],
       "type": "html"
      }
     },
     "output_type": "display_data"
    }
   ],
   "source": [
    "# pyspark functions\n",
    "from pyspark.sql.functions import *\n",
    "# URL processing\n",
    "import urllib\n",
    "# Define the path to the Delta table\n",
    "delta_table_path = \"dbfs:/user/hive/warehouse/authentication_credentials\"\n",
    "\n",
    "# Read the Delta table to a Spark DataFrame\n",
    "aws_keys_df = spark.read.format(\"delta\").load(delta_table_path)\n",
    "\n",
    "# Get the AWS access key and secret key from the spark dataframe\n",
    "ACCESS_KEY = aws_keys_df.select('Access key ID').collect()[0]['Access key ID']\n",
    "SECRET_KEY = aws_keys_df.select('Secret access key').collect()[0]['Secret access key']\n",
    "# Encode the secrete key\n",
    "ENCODED_SECRET_KEY = urllib.parse.quote(string=SECRET_KEY, safe=\"\")\n",
    "# AWS S3 bucket name\n",
    "AWS_S3_BUCKET = \"user-0a1e5630c127-bucket\"\n",
    "# Mount name for the bucket\n",
    "MOUNT_NAME = \"/mnt/0a1e5630c127/user\"\n",
    "# Source url\n",
    "SOURCE_URL = \"s3n://{0}:{1}@{2}\".format(ACCESS_KEY, ENCODED_SECRET_KEY, AWS_S3_BUCKET)\n",
    "# Mount the drive\n",
    "dbutils.fs.mount(SOURCE_URL, MOUNT_NAME)"
   ]
  },
  {
   "cell_type": "code",
   "execution_count": 0,
   "metadata": {
    "application/vnd.databricks.v1+cell": {
     "cellMetadata": {
      "byteLimit": 2048000,
      "rowLimit": 10000
     },
     "inputWidgets": {},
     "nuid": "ab8086cc-2591-462e-aa33-bc003b7508d4",
     "showTitle": false,
     "title": ""
    }
   },
   "outputs": [
    {
     "output_type": "display_data",
     "data": {
      "text/html": [
       "<style scoped>\n",
       "  .table-result-container {\n",
       "    max-height: 300px;\n",
       "    overflow: auto;\n",
       "  }\n",
       "  table, th, td {\n",
       "    border: 1px solid black;\n",
       "    border-collapse: collapse;\n",
       "  }\n",
       "  th, td {\n",
       "    padding: 5px;\n",
       "  }\n",
       "  th {\n",
       "    text-align: left;\n",
       "  }\n",
       "</style><div class='table-result-container'><table class='table-result'><thead style='background-color: white'><tr><th>path</th><th>name</th><th>size</th><th>modificationTime</th></tr></thead><tbody><tr><td>dbfs:/mnt/0a1e5630c127/user/kafka-connect-s3/</td><td>kafka-connect-s3/</td><td>0</td><td>1704729388949</td></tr><tr><td>dbfs:/mnt/0a1e5630c127/user/topics/</td><td>topics/</td><td>0</td><td>1704729388949</td></tr></tbody></table></div>"
      ]
     },
     "metadata": {
      "application/vnd.databricks.v1+output": {
       "addedWidgets": {},
       "aggData": [],
       "aggError": "",
       "aggOverflow": false,
       "aggSchema": [],
       "aggSeriesLimitReached": false,
       "aggType": "",
       "arguments": {},
       "columnCustomDisplayInfos": {},
       "data": [
        [
         "dbfs:/mnt/0a1e5630c127/user/kafka-connect-s3/",
         "kafka-connect-s3/",
         0,
         1704729388949
        ],
        [
         "dbfs:/mnt/0a1e5630c127/user/topics/",
         "topics/",
         0,
         1704729388949
        ]
       ],
       "datasetInfos": [],
       "dbfsResultPath": null,
       "isJsonSchema": true,
       "metadata": {},
       "overflow": false,
       "plotOptions": {
        "customPlotOptions": {},
        "displayType": "table",
        "pivotAggregation": null,
        "pivotColumns": null,
        "xColumns": null,
        "yColumns": null
       },
       "removedWidgets": [],
       "schema": [
        {
         "metadata": "{}",
         "name": "path",
         "type": "\"string\""
        },
        {
         "metadata": "{}",
         "name": "name",
         "type": "\"string\""
        },
        {
         "metadata": "{}",
         "name": "size",
         "type": "\"long\""
        },
        {
         "metadata": "{}",
         "name": "modificationTime",
         "type": "\"long\""
        }
       ],
       "type": "table"
      }
     },
     "output_type": "display_data"
    }
   ],
   "source": [
    "display(dbutils.fs.ls(\"/mnt/0a1e5630c127/user\"))"
   ]
  },
  {
   "cell_type": "code",
   "execution_count": 0,
   "metadata": {
    "application/vnd.databricks.v1+cell": {
     "cellMetadata": {
      "byteLimit": 2048000,
      "implicitDf": true,
      "rowLimit": 10000
     },
     "inputWidgets": {},
     "nuid": "fa6c7dd5-741b-4aa7-bd83-522495442251",
     "showTitle": false,
     "title": ""
    }
   },
   "outputs": [
    {
     "output_type": "display_data",
     "data": {
      "text/html": [
       "<style scoped>\n",
       "  .table-result-container {\n",
       "    max-height: 300px;\n",
       "    overflow: auto;\n",
       "  }\n",
       "  table, th, td {\n",
       "    border: 1px solid black;\n",
       "    border-collapse: collapse;\n",
       "  }\n",
       "  th, td {\n",
       "    padding: 5px;\n",
       "  }\n",
       "  th {\n",
       "    text-align: left;\n",
       "  }\n",
       "</style><div class='table-result-container'><table class='table-result'><thead style='background-color: white'><tr><th>key</th><th>value</th></tr></thead><tbody><tr><td>spark.databricks.delta.formatCheck.enabled</td><td>false</td></tr></tbody></table></div>"
      ]
     },
     "metadata": {
      "application/vnd.databricks.v1+output": {
       "addedWidgets": {},
       "aggData": [],
       "aggError": "",
       "aggOverflow": false,
       "aggSchema": [],
       "aggSeriesLimitReached": false,
       "aggType": "",
       "arguments": {},
       "columnCustomDisplayInfos": {},
       "data": [
        [
         "spark.databricks.delta.formatCheck.enabled",
         "false"
        ]
       ],
       "datasetInfos": [],
       "dbfsResultPath": null,
       "isJsonSchema": true,
       "metadata": {},
       "overflow": false,
       "plotOptions": {
        "customPlotOptions": {},
        "displayType": "table",
        "pivotAggregation": null,
        "pivotColumns": null,
        "xColumns": null,
        "yColumns": null
       },
       "removedWidgets": [],
       "schema": [
        {
         "metadata": "{}",
         "name": "key",
         "type": "\"string\""
        },
        {
         "metadata": "{}",
         "name": "value",
         "type": "\"string\""
        }
       ],
       "type": "table"
      }
     },
     "output_type": "display_data"
    }
   ],
   "source": [
    "%sql\n",
    "SET spark.databricks.delta.formatCheck.enabled=false"
   ]
  },
  {
   "cell_type": "code",
   "execution_count": 0,
   "metadata": {
    "application/vnd.databricks.v1+cell": {
     "cellMetadata": {
      "byteLimit": 2048000,
      "rowLimit": 10000
     },
     "inputWidgets": {},
     "nuid": "978d158d-1c9e-4b43-af91-68d57ce61c71",
     "showTitle": false,
     "title": ""
    }
   },
   "outputs": [
    {
     "output_type": "display_data",
     "data": {
      "text/html": [
       "<style scoped>\n",
       "  .table-result-container {\n",
       "    max-height: 300px;\n",
       "    overflow: auto;\n",
       "  }\n",
       "  table, th, td {\n",
       "    border: 1px solid black;\n",
       "    border-collapse: collapse;\n",
       "  }\n",
       "  th, td {\n",
       "    padding: 5px;\n",
       "  }\n",
       "  th {\n",
       "    text-align: left;\n",
       "  }\n",
       "</style><div class='table-result-container'><table class='table-result'><thead style='background-color: white'><tr><th>age</th><th>date_joined</th><th>first_name</th><th>ind</th><th>last_name</th></tr></thead><tbody><tr><td>27</td><td>2016-03-08 13:38:37</td><td>Christopher</td><td>2015</td><td>Bradshaw</td></tr><tr><td>59</td><td>2017-05-12 21:22:17</td><td>Alexander</td><td>10673</td><td>Cervantes</td></tr><tr><td>39</td><td>2016-06-29 20:43:59</td><td>Christina</td><td>6398</td><td>Davenport</td></tr><tr><td>20</td><td>2015-10-23 04:13:23</td><td>Alexandria</td><td>3599</td><td>Alvarado</td></tr><tr><td>20</td><td>2015-12-01 15:08:31</td><td>Christopher</td><td>5076</td><td>Butler</td></tr><tr><td>39</td><td>2017-07-19 07:12:04</td><td>Michelle</td><td>7790</td><td>Gutierrez</td></tr><tr><td>49</td><td>2016-04-22 20:36:02</td><td>Brittany</td><td>10509</td><td>Thompson</td></tr><tr><td>43</td><td>2016-07-21 15:25:08</td><td>Chelsea</td><td>10119</td><td>Gonzalez</td></tr><tr><td>21</td><td>2017-01-02 03:01:09</td><td>Catherine</td><td>3716</td><td>Ferrell</td></tr><tr><td>20</td><td>2015-11-24 21:01:23</td><td>Alejandra</td><td>7268</td><td>Acevedo</td></tr><tr><td>21</td><td>2015-11-10 09:27:42</td><td>Andrea</td><td>8731</td><td>Alexander</td></tr><tr><td>24</td><td>2016-03-31 20:56:39</td><td>Austin</td><td>8887</td><td>Rodriguez</td></tr><tr><td>23</td><td>2015-12-01 18:15:02</td><td>Christine</td><td>7768</td><td>Cortez</td></tr><tr><td>20</td><td>2015-10-30 11:37:32</td><td>Alexander</td><td>9268</td><td>Bailey</td></tr><tr><td>20</td><td>2017-03-10 19:53:44</td><td>Justin</td><td>3011</td><td>Singleton</td></tr><tr><td>22</td><td>2016-05-11 01:36:00</td><td>Brandon</td><td>1699</td><td>Cummings</td></tr><tr><td>21</td><td>2015-11-10 09:27:42</td><td>Andrea</td><td>8731</td><td>Alexander</td></tr><tr><td>21</td><td>2015-11-10 09:27:42</td><td>Andrea</td><td>8731</td><td>Alexander</td></tr><tr><td>21</td><td>2015-11-10 09:27:42</td><td>Andrea</td><td>8731</td><td>Alexander</td></tr><tr><td>21</td><td>2015-11-10 09:27:42</td><td>Andrea</td><td>8731</td><td>Alexander</td></tr><tr><td>21</td><td>2015-11-10 09:27:42</td><td>Andrea</td><td>8731</td><td>Alexander</td></tr><tr><td>21</td><td>2015-11-10 09:27:42</td><td>Andrea</td><td>8731</td><td>Alexander</td></tr><tr><td>21</td><td>2015-11-10 09:27:42</td><td>Andrea</td><td>8731</td><td>Alexander</td></tr><tr><td>36</td><td>2015-12-20 16:38:13</td><td>Michelle</td><td>4315</td><td>Prince</td></tr><tr><td>32</td><td>2017-10-10 20:09:33</td><td>Christian</td><td>10625</td><td>Lang</td></tr><tr><td>22</td><td>2016-02-11 20:46:04</td><td>Jennifer</td><td>9672</td><td>Hudson</td></tr><tr><td>23</td><td>2015-11-28 11:52:37</td><td>Andrew</td><td>8930</td><td>Anderson</td></tr><tr><td>31</td><td>2017-08-04 14:30:22</td><td>Alexander</td><td>6566</td><td>Perez</td></tr><tr><td>52</td><td>2016-02-07 20:00:25</td><td>Richard</td><td>3729</td><td>Edwards</td></tr><tr><td>40</td><td>2017-05-16 07:09:21</td><td>Michael</td><td>10552</td><td>Hunter</td></tr><tr><td>21</td><td>2015-10-25 07:36:08</td><td>Aaron</td><td>9074</td><td>Alexander</td></tr><tr><td>28</td><td>2016-01-29 20:32:05</td><td>Elizabeth</td><td>3201</td><td>Terry</td></tr><tr><td>40</td><td>2017-01-12 08:37:12</td><td>Timothy</td><td>480</td><td>Sullivan</td></tr><tr><td>21</td><td>2015-10-25 07:36:08</td><td>Aaron</td><td>7586</td><td>Alexander</td></tr><tr><td>32</td><td>2015-10-28 15:48:24</td><td>Alexander</td><td>1864</td><td>Adams</td></tr><tr><td>22</td><td>2017-04-14 13:57:52</td><td>Crystal</td><td>3145</td><td>Schmidt</td></tr><tr><td>24</td><td>2016-01-09 19:37:29</td><td>Barbara</td><td>5742</td><td>Edwards</td></tr><tr><td>36</td><td>2015-12-20 16:38:13</td><td>Michelle</td><td>4315</td><td>Prince</td></tr><tr><td>32</td><td>2017-10-10 20:09:33</td><td>Christian</td><td>10625</td><td>Lang</td></tr><tr><td>36</td><td>2015-12-20 16:38:13</td><td>Michelle</td><td>4315</td><td>Prince</td></tr><tr><td>36</td><td>2015-12-20 16:38:13</td><td>Michelle</td><td>4315</td><td>Prince</td></tr><tr><td>36</td><td>2015-12-20 16:38:13</td><td>Michelle</td><td>4315</td><td>Prince</td></tr><tr><td>32</td><td>2016-04-02 03:51:23</td><td>Brittany</td><td>1313</td><td>Jones</td></tr><tr><td>34</td><td>2016-12-22 00:02:02</td><td>Thomas</td><td>10794</td><td>Turner</td></tr><tr><td>20</td><td>2016-01-07 19:49:22</td><td>David</td><td>2959</td><td>Griffith</td></tr><tr><td>26</td><td>2015-12-20 10:28:00</td><td>Brendan</td><td>9875</td><td>Joseph</td></tr><tr><td>21</td><td>2016-01-03 15:42:12</td><td>Annette</td><td>2074</td><td>Forbes</td></tr><tr><td>56</td><td>2016-10-15 17:21:39</td><td>Gregory</td><td>1014</td><td>Ramsey</td></tr><tr><td>59</td><td>2017-06-29 22:35:17</td><td>Michael</td><td>4137</td><td>Decker</td></tr><tr><td>21</td><td>2015-11-24 02:15:36</td><td>Aaron</td><td>2411</td><td>Bartlett</td></tr><tr><td>58</td><td>2016-06-03 23:35:30</td><td>Michael</td><td>4508</td><td>Carter</td></tr><tr><td>32</td><td>2016-03-10 04:11:31</td><td>Brittany</td><td>771</td><td>Butler</td></tr><tr><td>46</td><td>2015-11-27 23:11:21</td><td>Jonathan</td><td>1545</td><td>Avila</td></tr><tr><td>44</td><td>2016-10-29 02:07:21</td><td>Brandon</td><td>603</td><td>Jackson</td></tr><tr><td>22</td><td>2016-02-09 17:01:38</td><td>Carlos</td><td>5630</td><td>Estrada</td></tr><tr><td>32</td><td>2016-06-08 22:10:13</td><td>Donna</td><td>1268</td><td>Campbell</td></tr><tr><td>54</td><td>2016-05-15 04:22:01</td><td>Alexis</td><td>1555</td><td>Bennett</td></tr><tr><td>20</td><td>2015-12-17 08:43:40</td><td>Adam</td><td>3800</td><td>Armstrong</td></tr><tr><td>43</td><td>2016-03-22 15:45:21</td><td>Jesus</td><td>2788</td><td>Arellano</td></tr><tr><td>51</td><td>2017-08-14 08:26:30</td><td>Nathan</td><td>8300</td><td>Stanton</td></tr><tr><td>46</td><td>2016-09-11 22:32:50</td><td>Carrie</td><td>10337</td><td>Parker</td></tr><tr><td>39</td><td>2016-06-30 02:56:06</td><td>Samuel</td><td>7832</td><td>Hawkins</td></tr><tr><td>31</td><td>2016-02-06 10:22:53</td><td>Christine</td><td>778</td><td>Adams</td></tr><tr><td>21</td><td>2015-10-28 03:59:42</td><td>Anthony</td><td>2565</td><td>Adkins</td></tr><tr><td>30</td><td>2016-07-08 19:10:37</td><td>Holly</td><td>9778</td><td>Campbell</td></tr><tr><td>28</td><td>2017-04-30 16:41:26</td><td>James</td><td>5162</td><td>Jacobson</td></tr><tr><td>35</td><td>2016-02-04 14:45:39</td><td>Allison</td><td>3184</td><td>Dawson</td></tr><tr><td>32</td><td>2016-04-02 03:51:23</td><td>Brittany</td><td>1313</td><td>Jones</td></tr><tr><td>32</td><td>2016-04-02 03:51:23</td><td>Brittany</td><td>1313</td><td>Jones</td></tr><tr><td>34</td><td>2016-12-22 00:02:02</td><td>Thomas</td><td>10794</td><td>Turner</td></tr><tr><td>20</td><td>2016-01-07 19:49:22</td><td>David</td><td>2959</td><td>Griffith</td></tr><tr><td>26</td><td>2015-12-20 10:28:00</td><td>Brendan</td><td>9875</td><td>Joseph</td></tr><tr><td>32</td><td>2016-04-02 03:51:23</td><td>Brittany</td><td>1313</td><td>Jones</td></tr><tr><td>32</td><td>2016-04-02 03:51:23</td><td>Brittany</td><td>1313</td><td>Jones</td></tr><tr><td>34</td><td>2016-12-22 00:02:02</td><td>Thomas</td><td>10794</td><td>Turner</td></tr><tr><td>32</td><td>2016-04-02 03:51:23</td><td>Brittany</td><td>1313</td><td>Jones</td></tr><tr><td>32</td><td>2016-04-02 03:51:23</td><td>Brittany</td><td>1313</td><td>Jones</td></tr><tr><td>34</td><td>2016-12-22 00:02:02</td><td>Thomas</td><td>10794</td><td>Turner</td></tr><tr><td>32</td><td>2016-04-02 03:51:23</td><td>Brittany</td><td>1313</td><td>Jones</td></tr><tr><td>34</td><td>2016-12-22 00:02:02</td><td>Thomas</td><td>10794</td><td>Turner</td></tr><tr><td>25</td><td>2015-12-28 04:21:39</td><td>Charles</td><td>8304</td><td>Berry</td></tr><tr><td>23</td><td>2015-11-25 13:36:22</td><td>Corey</td><td>6063</td><td>Andrews</td></tr><tr><td>48</td><td>2017-09-26 16:31:56</td><td>Robert</td><td>3454</td><td>Murphy</td></tr><tr><td>20</td><td>2017-04-11 16:35:33</td><td>Cheryl</td><td>7554</td><td>Huerta</td></tr><tr><td>30</td><td>2015-12-25 20:24:37</td><td>Emily</td><td>6145</td><td>Hawkins</td></tr><tr><td>31</td><td>2016-11-09 19:50:51</td><td>Kaylee</td><td>9979</td><td>Miller</td></tr><tr><td>24</td><td>2015-11-20 05:37:11</td><td>Angela</td><td>4913</td><td>Brooks</td></tr><tr><td>25</td><td>2015-11-19 21:24:33</td><td>Daniel</td><td>9759</td><td>Brooks</td></tr><tr><td>20</td><td>2016-12-31 00:06:36</td><td>Dawn</td><td>7294</td><td>Anderson</td></tr><tr><td>21</td><td>2015-11-24 02:15:36</td><td>Aaron</td><td>808</td><td>Bartlett</td></tr><tr><td>28</td><td>2016-11-15 10:40:03</td><td>Anthony</td><td>9936</td><td>Cantu</td></tr><tr><td>30</td><td>2016-07-03 10:59:40</td><td>Peter</td><td>6844</td><td>Roberts</td></tr><tr><td>47</td><td>2017-04-26 03:26:23</td><td>Aaron</td><td>3419</td><td>Jenkins</td></tr><tr><td>25</td><td>2017-07-20 05:51:23</td><td>Rhonda</td><td>4988</td><td>Durham</td></tr><tr><td>20</td><td>2017-01-17 01:49:27</td><td>Regina</td><td>552</td><td>Morales</td></tr><tr><td>25</td><td>2015-11-19 21:24:33</td><td>Daniel</td><td>8312</td><td>Brooks</td></tr><tr><td>38</td><td>2015-10-26 09:45:45</td><td>Nicholas</td><td>6261</td><td>Hart</td></tr><tr><td>20</td><td>2015-10-26 23:04:52</td><td>Amanda</td><td>5758</td><td>Arnold</td></tr><tr><td>38</td><td>2017-05-03 03:08:33</td><td>Virginia</td><td>1137</td><td>Vega</td></tr><tr><td>31</td><td>2016-01-21 12:53:34</td><td>Karina</td><td>2301</td><td>Morton</td></tr><tr><td>33</td><td>2017-04-19 08:49:40</td><td>Sarah</td><td>232</td><td>Buchanan</td></tr><tr><td>40</td><td>2016-01-03 12:03:05</td><td>Jessica</td><td>9475</td><td>Mejia</td></tr><tr><td>27</td><td>2016-03-03 07:28:39</td><td>John</td><td>4996</td><td>Anderson</td></tr><tr><td>34</td><td>2016-02-26 00:38:01</td><td>Alexis</td><td>7738</td><td>George</td></tr><tr><td>20</td><td>2015-11-07 20:59:32</td><td>Abigail</td><td>8886</td><td>Bates</td></tr><tr><td>22</td><td>2015-11-30 10:51:59</td><td>Allison</td><td>4357</td><td>Adams</td></tr><tr><td>25</td><td>2015-12-28 04:21:39</td><td>Charles</td><td>8304</td><td>Berry</td></tr><tr><td>25</td><td>2015-12-28 04:21:39</td><td>Charles</td><td>8304</td><td>Berry</td></tr><tr><td>23</td><td>2015-11-25 13:36:22</td><td>Corey</td><td>6063</td><td>Andrews</td></tr><tr><td>48</td><td>2017-09-26 16:31:56</td><td>Robert</td><td>3454</td><td>Murphy</td></tr><tr><td>20</td><td>2017-04-11 16:35:33</td><td>Cheryl</td><td>7554</td><td>Huerta</td></tr><tr><td>30</td><td>2015-12-25 20:24:37</td><td>Emily</td><td>6145</td><td>Hawkins</td></tr><tr><td>25</td><td>2015-12-28 04:21:39</td><td>Charles</td><td>8304</td><td>Berry</td></tr><tr><td>25</td><td>2015-12-28 04:21:39</td><td>Charles</td><td>8304</td><td>Berry</td></tr><tr><td>25</td><td>2015-12-28 04:21:39</td><td>Charles</td><td>8304</td><td>Berry</td></tr><tr><td>25</td><td>2015-12-28 04:21:39</td><td>Charles</td><td>8304</td><td>Berry</td></tr><tr><td>25</td><td>2015-12-28 04:21:39</td><td>Charles</td><td>8304</td><td>Berry</td></tr><tr><td>23</td><td>2015-11-25 13:36:22</td><td>Corey</td><td>6063</td><td>Andrews</td></tr><tr><td>48</td><td>2017-09-26 16:31:56</td><td>Robert</td><td>3454</td><td>Murphy</td></tr><tr><td>20</td><td>2017-04-11 16:35:33</td><td>Cheryl</td><td>7554</td><td>Huerta</td></tr><tr><td>32</td><td>2016-10-23 14:06:51</td><td>Dylan</td><td>2863</td><td>Holmes</td></tr><tr><td>36</td><td>2015-12-08 20:02:43</td><td>Rachel</td><td>5730</td><td>Davis</td></tr><tr><td>26</td><td>2015-11-11 03:20:57</td><td>Brian</td><td>2923</td><td>Nelson</td></tr><tr><td>20</td><td>2015-10-21 08:27:36</td><td>Amanda</td><td>2418</td><td>Adams</td></tr><tr><td>22</td><td>2015-12-21 08:06:54</td><td>Andrew</td><td>3156</td><td>Baker</td></tr><tr><td>20</td><td>2015-11-28 02:20:29</td><td>Claudia</td><td>428</td><td>Adams</td></tr><tr><td>24</td><td>2016-01-11 12:03:48</td><td>Anne</td><td>7343</td><td>Clayton</td></tr><tr><td>22</td><td>2015-12-31 14:57:02</td><td>Carol</td><td>10138</td><td>Silva</td></tr><tr><td>21</td><td>2015-11-12 06:21:36</td><td>Denise</td><td>7922</td><td>Adams</td></tr><tr><td>22</td><td>2015-10-24 18:56:30</td><td>Amanda</td><td>9590</td><td>Allen</td></tr><tr><td>44</td><td>2017-06-21 19:53:27</td><td>Kayla</td><td>2698</td><td>Burton</td></tr><tr><td>28</td><td>2016-06-16 02:06:38</td><td>Aimee</td><td>831</td><td>Collins</td></tr><tr><td>21</td><td>2015-11-12 06:21:36</td><td>Denise</td><td>8606</td><td>Adams</td></tr><tr><td>20</td><td>2015-10-23 22:47:39</td><td>Larry</td><td>4076</td><td>Pineda</td></tr><tr><td>20</td><td>2015-10-31 18:51:07</td><td>Aaron</td><td>1422</td><td>Abbott</td></tr><tr><td>20</td><td>2015-11-12 03:23:49</td><td>Amanda</td><td>1371</td><td>Brown</td></tr><tr><td>30</td><td>2016-02-21 12:54:01</td><td>Ashley</td><td>2604</td><td>Evans</td></tr><tr><td>59</td><td>2016-12-17 11:10:48</td><td>Ariana</td><td>1198</td><td>Gross</td></tr><tr><td>30</td><td>2016-12-21 13:39:14</td><td>Derrick</td><td>10370</td><td>Kim</td></tr><tr><td>20</td><td>2016-08-26 16:09:52</td><td>Dawn</td><td>7167</td><td>Bradley</td></tr><tr><td>25</td><td>2016-04-27 02:59:27</td><td>Glenn</td><td>772</td><td>Hammond</td></tr><tr><td>20</td><td>2016-07-27 06:20:48</td><td>Debra</td><td>7510</td><td>Becker</td></tr><tr><td>20</td><td>2015-10-26 04:12:32</td><td>Angela</td><td>7234</td><td>Allen</td></tr><tr><td>20</td><td>2015-10-23 16:08:41</td><td>Aaron</td><td>7874</td><td>Abbott</td></tr><tr><td>20</td><td>2015-10-31 18:51:07</td><td>Aaron</td><td>1450</td><td>Abbott</td></tr><tr><td>21</td><td>2015-11-05 22:07:56</td><td>Albert</td><td>9093</td><td>Adams</td></tr><tr><td>36</td><td>2016-06-03 23:53:50</td><td>David</td><td>5293</td><td>Taylor</td></tr><tr><td>20</td><td>2015-10-23 16:08:41</td><td>Aaron</td><td>7733</td><td>Abbott</td></tr><tr><td>56</td><td>2016-02-04 23:27:36</td><td>Justin</td><td>8366</td><td>Ewing</td></tr><tr><td>53</td><td>2016-02-20 13:03:00</td><td>Nicole</td><td>10168</td><td>Gray</td></tr><tr><td>50</td><td>2017-07-31 16:56:52</td><td>Jeremy</td><td>2498</td><td>Chase</td></tr><tr><td>59</td><td>2016-09-06 06:21:57</td><td>Lydia</td><td>6250</td><td>Nelson</td></tr><tr><td>55</td><td>2017-08-11 14:24:41</td><td>Gerald</td><td>3563</td><td>Davis</td></tr><tr><td>32</td><td>2016-10-23 14:06:51</td><td>Dylan</td><td>2863</td><td>Holmes</td></tr><tr><td>36</td><td>2015-12-08 20:02:43</td><td>Rachel</td><td>5730</td><td>Davis</td></tr><tr><td>32</td><td>2016-10-23 14:06:51</td><td>Dylan</td><td>2863</td><td>Holmes</td></tr><tr><td>36</td><td>2015-12-08 20:02:43</td><td>Rachel</td><td>5730</td><td>Davis</td></tr><tr><td>26</td><td>2015-11-11 03:20:57</td><td>Brian</td><td>2923</td><td>Nelson</td></tr><tr><td>20</td><td>2015-10-21 08:27:36</td><td>Amanda</td><td>2418</td><td>Adams</td></tr><tr><td>22</td><td>2015-12-21 08:06:54</td><td>Andrew</td><td>3156</td><td>Baker</td></tr><tr><td>32</td><td>2016-10-23 14:06:51</td><td>Dylan</td><td>2863</td><td>Holmes</td></tr><tr><td>36</td><td>2015-12-08 20:02:43</td><td>Rachel</td><td>5730</td><td>Davis</td></tr><tr><td>32</td><td>2016-10-23 14:06:51</td><td>Dylan</td><td>2863</td><td>Holmes</td></tr><tr><td>36</td><td>2015-12-08 20:02:43</td><td>Rachel</td><td>5730</td><td>Davis</td></tr><tr><td>32</td><td>2016-10-23 14:06:51</td><td>Dylan</td><td>2863</td><td>Holmes</td></tr><tr><td>36</td><td>2015-12-08 20:02:43</td><td>Rachel</td><td>5730</td><td>Davis</td></tr><tr><td>32</td><td>2016-10-23 14:06:51</td><td>Dylan</td><td>2863</td><td>Holmes</td></tr><tr><td>36</td><td>2015-12-08 20:02:43</td><td>Rachel</td><td>5730</td><td>Davis</td></tr><tr><td>32</td><td>2016-10-23 14:06:51</td><td>Dylan</td><td>2863</td><td>Holmes</td></tr><tr><td>36</td><td>2015-12-08 20:02:43</td><td>Rachel</td><td>5730</td><td>Davis</td></tr><tr><td>26</td><td>2015-11-11 03:20:57</td><td>Brian</td><td>2923</td><td>Nelson</td></tr><tr><td>20</td><td>2015-10-24 11:23:51</td><td>Abigail</td><td>7528</td><td>Ali</td></tr><tr><td>25</td><td>2016-01-13 17:36:30</td><td>Amanda</td><td>5069</td><td>Ball</td></tr><tr><td>20</td><td>2015-10-24 11:23:51</td><td>Abigail</td><td>3089</td><td>Ali</td></tr><tr><td>24</td><td>2016-03-09 10:48:14</td><td>Tammy</td><td>8653</td><td>Davis</td></tr><tr><td>20</td><td>2016-01-01 13:50:40</td><td>Alvin</td><td>7166</td><td>Adams</td></tr><tr><td>20</td><td>2016-02-27 21:13:44</td><td>Alex</td><td>9546</td><td>Barnes</td></tr><tr><td>20</td><td>2016-07-23 20:51:06</td><td>Lisa</td><td>5468</td><td>Gamble</td></tr><tr><td>20</td><td>2015-10-23 12:40:19</td><td>Brett</td><td>205</td><td>Bryant</td></tr><tr><td>20</td><td>2016-01-26 01:49:23</td><td>Alicia</td><td>719</td><td>Avila</td></tr><tr><td>20</td><td>2016-07-02 02:32:30</td><td>Ann</td><td>1094</td><td>Elliott</td></tr><tr><td>51</td><td>2016-10-09 14:47:51</td><td>Melanie</td><td>223</td><td>Hill</td></tr><tr><td>32</td><td>2016-08-23 20:36:12</td><td>Shawn</td><td>2637</td><td>Jones</td></tr><tr><td>27</td><td>2016-12-18 10:11:23</td><td>Joshua</td><td>2060</td><td>Long</td></tr><tr><td>21</td><td>2016-01-10 09:41:14</td><td>Jose</td><td>9487</td><td>Bailey</td></tr><tr><td>34</td><td>2016-05-08 16:27:01</td><td>Julie</td><td>10245</td><td>Cook</td></tr><tr><td>28</td><td>2015-11-26 11:23:50</td><td>Gary</td><td>3750</td><td>Barker</td></tr><tr><td>23</td><td>2016-01-06 12:22:08</td><td>Amber</td><td>3334</td><td>Casey</td></tr><tr><td>35</td><td>2016-11-19 22:36:49</td><td>Aaron</td><td>5333</td><td>Clark</td></tr><tr><td>20</td><td>2015-10-24 11:23:51</td><td>Abigail</td><td>1341</td><td>Ali</td></tr><tr><td>26</td><td>2017-06-12 16:02:59</td><td>Mary</td><td>5151</td><td>Jordan</td></tr><tr><td>39</td><td>2017-04-04 06:05:03</td><td>Eric</td><td>3351</td><td>Taylor</td></tr><tr><td>58</td><td>2016-09-18 07:28:19</td><td>Kevin</td><td>2955</td><td>Young</td></tr><tr><td>43</td><td>2016-11-29 22:22:47</td><td>Gary</td><td>6558</td><td>Tanner</td></tr><tr><td>20</td><td>2015-10-24 11:23:51</td><td>Abigail</td><td>7528</td><td>Ali</td></tr><tr><td>20</td><td>2015-10-24 11:23:51</td><td>Abigail</td><td>7528</td><td>Ali</td></tr><tr><td>25</td><td>2016-01-13 17:36:30</td><td>Amanda</td><td>5069</td><td>Ball</td></tr><tr><td>20</td><td>2015-10-24 11:23:51</td><td>Abigail</td><td>3089</td><td>Ali</td></tr><tr><td>20</td><td>2015-10-24 11:23:51</td><td>Abigail</td><td>7528</td><td>Ali</td></tr><tr><td>20</td><td>2015-10-24 11:23:51</td><td>Abigail</td><td>7528</td><td>Ali</td></tr><tr><td>20</td><td>2015-10-24 11:23:51</td><td>Abigail</td><td>7528</td><td>Ali</td></tr><tr><td>20</td><td>2015-10-24 11:23:51</td><td>Abigail</td><td>7528</td><td>Ali</td></tr><tr><td>20</td><td>2015-10-24 11:23:51</td><td>Abigail</td><td>7528</td><td>Ali</td></tr><tr><td>25</td><td>2016-01-13 17:36:30</td><td>Amanda</td><td>5069</td><td>Ball</td></tr><tr><td>20</td><td>2015-10-24 11:23:51</td><td>Abigail</td><td>3089</td><td>Ali</td></tr><tr><td>27</td><td>2015-12-16 15:20:05</td><td>Anne</td><td>5494</td><td>Allen</td></tr><tr><td>23</td><td>2016-06-23 14:38:00</td><td>Julie</td><td>10663</td><td>Cox</td></tr><tr><td>20</td><td>2015-10-28 05:00:33</td><td>Barry</td><td>1704</td><td>Lynn</td></tr><tr><td>22</td><td>2016-03-01 07:11:48</td><td>David</td><td>2482</td><td>Moss</td></tr><tr><td>21</td><td>2016-01-07 08:11:35</td><td>Alison</td><td>159</td><td>Bell</td></tr><tr><td>31</td><td>2016-03-07 01:01:24</td><td>Daniel</td><td>5309</td><td>Roy</td></tr><tr><td>39</td><td>2015-12-04 03:15:28</td><td>Jill</td><td>327</td><td>Taylor</td></tr><tr><td>34</td><td>2017-08-22 00:01:29</td><td>Mark</td><td>8978</td><td>Jones</td></tr><tr><td>23</td><td>2016-02-18 08:44:33</td><td>Nancy</td><td>1362</td><td>Case</td></tr><tr><td>27</td><td>2016-02-06 15:31:57</td><td>Jason</td><td>995</td><td>Horne</td></tr><tr><td>27</td><td>2015-12-16 15:20:05</td><td>Anne</td><td>5494</td><td>Allen</td></tr><tr><td>27</td><td>2015-12-16 15:20:05</td><td>Anne</td><td>5494</td><td>Allen</td></tr><tr><td>27</td><td>2015-12-16 15:20:05</td><td>Anne</td><td>5494</td><td>Allen</td></tr><tr><td>27</td><td>2015-12-16 15:20:05</td><td>Anne</td><td>5494</td><td>Allen</td></tr><tr><td>24</td><td>2016-01-11 23:08:27</td><td>Alex</td><td>2293</td><td>Bean</td></tr><tr><td>30</td><td>2016-01-06 09:58:56</td><td>Erik</td><td>46</td><td>Kelley</td></tr><tr><td>21</td><td>2015-12-27 23:43:42</td><td>Anne</td><td>2858</td><td>Bond</td></tr><tr><td>20</td><td>2015-10-24 05:05:28</td><td>Amy</td><td>1706</td><td>Adams</td></tr><tr><td>22</td><td>2015-11-18 23:11:15</td><td>Ann</td><td>2048</td><td>Chung</td></tr><tr><td>22</td><td>2016-01-02 01:40:52</td><td>Mary</td><td>6014</td><td>Luna</td></tr><tr><td>24</td><td>2016-05-12 16:28:27</td><td>Jay</td><td>1967</td><td>Flynn</td></tr><tr><td>48</td><td>2017-06-01 23:13:27</td><td>Joe</td><td>8578</td><td>Pham</td></tr><tr><td>25</td><td>2015-11-26 17:42:37</td><td>Jon</td><td>427</td><td>Burke</td></tr></tbody></table></div>"
      ]
     },
     "metadata": {
      "application/vnd.databricks.v1+output": {
       "addedWidgets": {},
       "aggData": [],
       "aggError": "",
       "aggOverflow": false,
       "aggSchema": [],
       "aggSeriesLimitReached": false,
       "aggType": "",
       "arguments": {},
       "columnCustomDisplayInfos": {},
       "data": [
        [
         27,
         "2016-03-08 13:38:37",
         "Christopher",
         2015,
         "Bradshaw"
        ],
        [
         59,
         "2017-05-12 21:22:17",
         "Alexander",
         10673,
         "Cervantes"
        ],
        [
         39,
         "2016-06-29 20:43:59",
         "Christina",
         6398,
         "Davenport"
        ],
        [
         20,
         "2015-10-23 04:13:23",
         "Alexandria",
         3599,
         "Alvarado"
        ],
        [
         20,
         "2015-12-01 15:08:31",
         "Christopher",
         5076,
         "Butler"
        ],
        [
         39,
         "2017-07-19 07:12:04",
         "Michelle",
         7790,
         "Gutierrez"
        ],
        [
         49,
         "2016-04-22 20:36:02",
         "Brittany",
         10509,
         "Thompson"
        ],
        [
         43,
         "2016-07-21 15:25:08",
         "Chelsea",
         10119,
         "Gonzalez"
        ],
        [
         21,
         "2017-01-02 03:01:09",
         "Catherine",
         3716,
         "Ferrell"
        ],
        [
         20,
         "2015-11-24 21:01:23",
         "Alejandra",
         7268,
         "Acevedo"
        ],
        [
         21,
         "2015-11-10 09:27:42",
         "Andrea",
         8731,
         "Alexander"
        ],
        [
         24,
         "2016-03-31 20:56:39",
         "Austin",
         8887,
         "Rodriguez"
        ],
        [
         23,
         "2015-12-01 18:15:02",
         "Christine",
         7768,
         "Cortez"
        ],
        [
         20,
         "2015-10-30 11:37:32",
         "Alexander",
         9268,
         "Bailey"
        ],
        [
         20,
         "2017-03-10 19:53:44",
         "Justin",
         3011,
         "Singleton"
        ],
        [
         22,
         "2016-05-11 01:36:00",
         "Brandon",
         1699,
         "Cummings"
        ],
        [
         21,
         "2015-11-10 09:27:42",
         "Andrea",
         8731,
         "Alexander"
        ],
        [
         21,
         "2015-11-10 09:27:42",
         "Andrea",
         8731,
         "Alexander"
        ],
        [
         21,
         "2015-11-10 09:27:42",
         "Andrea",
         8731,
         "Alexander"
        ],
        [
         21,
         "2015-11-10 09:27:42",
         "Andrea",
         8731,
         "Alexander"
        ],
        [
         21,
         "2015-11-10 09:27:42",
         "Andrea",
         8731,
         "Alexander"
        ],
        [
         21,
         "2015-11-10 09:27:42",
         "Andrea",
         8731,
         "Alexander"
        ],
        [
         21,
         "2015-11-10 09:27:42",
         "Andrea",
         8731,
         "Alexander"
        ],
        [
         36,
         "2015-12-20 16:38:13",
         "Michelle",
         4315,
         "Prince"
        ],
        [
         32,
         "2017-10-10 20:09:33",
         "Christian",
         10625,
         "Lang"
        ],
        [
         22,
         "2016-02-11 20:46:04",
         "Jennifer",
         9672,
         "Hudson"
        ],
        [
         23,
         "2015-11-28 11:52:37",
         "Andrew",
         8930,
         "Anderson"
        ],
        [
         31,
         "2017-08-04 14:30:22",
         "Alexander",
         6566,
         "Perez"
        ],
        [
         52,
         "2016-02-07 20:00:25",
         "Richard",
         3729,
         "Edwards"
        ],
        [
         40,
         "2017-05-16 07:09:21",
         "Michael",
         10552,
         "Hunter"
        ],
        [
         21,
         "2015-10-25 07:36:08",
         "Aaron",
         9074,
         "Alexander"
        ],
        [
         28,
         "2016-01-29 20:32:05",
         "Elizabeth",
         3201,
         "Terry"
        ],
        [
         40,
         "2017-01-12 08:37:12",
         "Timothy",
         480,
         "Sullivan"
        ],
        [
         21,
         "2015-10-25 07:36:08",
         "Aaron",
         7586,
         "Alexander"
        ],
        [
         32,
         "2015-10-28 15:48:24",
         "Alexander",
         1864,
         "Adams"
        ],
        [
         22,
         "2017-04-14 13:57:52",
         "Crystal",
         3145,
         "Schmidt"
        ],
        [
         24,
         "2016-01-09 19:37:29",
         "Barbara",
         5742,
         "Edwards"
        ],
        [
         36,
         "2015-12-20 16:38:13",
         "Michelle",
         4315,
         "Prince"
        ],
        [
         32,
         "2017-10-10 20:09:33",
         "Christian",
         10625,
         "Lang"
        ],
        [
         36,
         "2015-12-20 16:38:13",
         "Michelle",
         4315,
         "Prince"
        ],
        [
         36,
         "2015-12-20 16:38:13",
         "Michelle",
         4315,
         "Prince"
        ],
        [
         36,
         "2015-12-20 16:38:13",
         "Michelle",
         4315,
         "Prince"
        ],
        [
         32,
         "2016-04-02 03:51:23",
         "Brittany",
         1313,
         "Jones"
        ],
        [
         34,
         "2016-12-22 00:02:02",
         "Thomas",
         10794,
         "Turner"
        ],
        [
         20,
         "2016-01-07 19:49:22",
         "David",
         2959,
         "Griffith"
        ],
        [
         26,
         "2015-12-20 10:28:00",
         "Brendan",
         9875,
         "Joseph"
        ],
        [
         21,
         "2016-01-03 15:42:12",
         "Annette",
         2074,
         "Forbes"
        ],
        [
         56,
         "2016-10-15 17:21:39",
         "Gregory",
         1014,
         "Ramsey"
        ],
        [
         59,
         "2017-06-29 22:35:17",
         "Michael",
         4137,
         "Decker"
        ],
        [
         21,
         "2015-11-24 02:15:36",
         "Aaron",
         2411,
         "Bartlett"
        ],
        [
         58,
         "2016-06-03 23:35:30",
         "Michael",
         4508,
         "Carter"
        ],
        [
         32,
         "2016-03-10 04:11:31",
         "Brittany",
         771,
         "Butler"
        ],
        [
         46,
         "2015-11-27 23:11:21",
         "Jonathan",
         1545,
         "Avila"
        ],
        [
         44,
         "2016-10-29 02:07:21",
         "Brandon",
         603,
         "Jackson"
        ],
        [
         22,
         "2016-02-09 17:01:38",
         "Carlos",
         5630,
         "Estrada"
        ],
        [
         32,
         "2016-06-08 22:10:13",
         "Donna",
         1268,
         "Campbell"
        ],
        [
         54,
         "2016-05-15 04:22:01",
         "Alexis",
         1555,
         "Bennett"
        ],
        [
         20,
         "2015-12-17 08:43:40",
         "Adam",
         3800,
         "Armstrong"
        ],
        [
         43,
         "2016-03-22 15:45:21",
         "Jesus",
         2788,
         "Arellano"
        ],
        [
         51,
         "2017-08-14 08:26:30",
         "Nathan",
         8300,
         "Stanton"
        ],
        [
         46,
         "2016-09-11 22:32:50",
         "Carrie",
         10337,
         "Parker"
        ],
        [
         39,
         "2016-06-30 02:56:06",
         "Samuel",
         7832,
         "Hawkins"
        ],
        [
         31,
         "2016-02-06 10:22:53",
         "Christine",
         778,
         "Adams"
        ],
        [
         21,
         "2015-10-28 03:59:42",
         "Anthony",
         2565,
         "Adkins"
        ],
        [
         30,
         "2016-07-08 19:10:37",
         "Holly",
         9778,
         "Campbell"
        ],
        [
         28,
         "2017-04-30 16:41:26",
         "James",
         5162,
         "Jacobson"
        ],
        [
         35,
         "2016-02-04 14:45:39",
         "Allison",
         3184,
         "Dawson"
        ],
        [
         32,
         "2016-04-02 03:51:23",
         "Brittany",
         1313,
         "Jones"
        ],
        [
         32,
         "2016-04-02 03:51:23",
         "Brittany",
         1313,
         "Jones"
        ],
        [
         34,
         "2016-12-22 00:02:02",
         "Thomas",
         10794,
         "Turner"
        ],
        [
         20,
         "2016-01-07 19:49:22",
         "David",
         2959,
         "Griffith"
        ],
        [
         26,
         "2015-12-20 10:28:00",
         "Brendan",
         9875,
         "Joseph"
        ],
        [
         32,
         "2016-04-02 03:51:23",
         "Brittany",
         1313,
         "Jones"
        ],
        [
         32,
         "2016-04-02 03:51:23",
         "Brittany",
         1313,
         "Jones"
        ],
        [
         34,
         "2016-12-22 00:02:02",
         "Thomas",
         10794,
         "Turner"
        ],
        [
         32,
         "2016-04-02 03:51:23",
         "Brittany",
         1313,
         "Jones"
        ],
        [
         32,
         "2016-04-02 03:51:23",
         "Brittany",
         1313,
         "Jones"
        ],
        [
         34,
         "2016-12-22 00:02:02",
         "Thomas",
         10794,
         "Turner"
        ],
        [
         32,
         "2016-04-02 03:51:23",
         "Brittany",
         1313,
         "Jones"
        ],
        [
         34,
         "2016-12-22 00:02:02",
         "Thomas",
         10794,
         "Turner"
        ],
        [
         25,
         "2015-12-28 04:21:39",
         "Charles",
         8304,
         "Berry"
        ],
        [
         23,
         "2015-11-25 13:36:22",
         "Corey",
         6063,
         "Andrews"
        ],
        [
         48,
         "2017-09-26 16:31:56",
         "Robert",
         3454,
         "Murphy"
        ],
        [
         20,
         "2017-04-11 16:35:33",
         "Cheryl",
         7554,
         "Huerta"
        ],
        [
         30,
         "2015-12-25 20:24:37",
         "Emily",
         6145,
         "Hawkins"
        ],
        [
         31,
         "2016-11-09 19:50:51",
         "Kaylee",
         9979,
         "Miller"
        ],
        [
         24,
         "2015-11-20 05:37:11",
         "Angela",
         4913,
         "Brooks"
        ],
        [
         25,
         "2015-11-19 21:24:33",
         "Daniel",
         9759,
         "Brooks"
        ],
        [
         20,
         "2016-12-31 00:06:36",
         "Dawn",
         7294,
         "Anderson"
        ],
        [
         21,
         "2015-11-24 02:15:36",
         "Aaron",
         808,
         "Bartlett"
        ],
        [
         28,
         "2016-11-15 10:40:03",
         "Anthony",
         9936,
         "Cantu"
        ],
        [
         30,
         "2016-07-03 10:59:40",
         "Peter",
         6844,
         "Roberts"
        ],
        [
         47,
         "2017-04-26 03:26:23",
         "Aaron",
         3419,
         "Jenkins"
        ],
        [
         25,
         "2017-07-20 05:51:23",
         "Rhonda",
         4988,
         "Durham"
        ],
        [
         20,
         "2017-01-17 01:49:27",
         "Regina",
         552,
         "Morales"
        ],
        [
         25,
         "2015-11-19 21:24:33",
         "Daniel",
         8312,
         "Brooks"
        ],
        [
         38,
         "2015-10-26 09:45:45",
         "Nicholas",
         6261,
         "Hart"
        ],
        [
         20,
         "2015-10-26 23:04:52",
         "Amanda",
         5758,
         "Arnold"
        ],
        [
         38,
         "2017-05-03 03:08:33",
         "Virginia",
         1137,
         "Vega"
        ],
        [
         31,
         "2016-01-21 12:53:34",
         "Karina",
         2301,
         "Morton"
        ],
        [
         33,
         "2017-04-19 08:49:40",
         "Sarah",
         232,
         "Buchanan"
        ],
        [
         40,
         "2016-01-03 12:03:05",
         "Jessica",
         9475,
         "Mejia"
        ],
        [
         27,
         "2016-03-03 07:28:39",
         "John",
         4996,
         "Anderson"
        ],
        [
         34,
         "2016-02-26 00:38:01",
         "Alexis",
         7738,
         "George"
        ],
        [
         20,
         "2015-11-07 20:59:32",
         "Abigail",
         8886,
         "Bates"
        ],
        [
         22,
         "2015-11-30 10:51:59",
         "Allison",
         4357,
         "Adams"
        ],
        [
         25,
         "2015-12-28 04:21:39",
         "Charles",
         8304,
         "Berry"
        ],
        [
         25,
         "2015-12-28 04:21:39",
         "Charles",
         8304,
         "Berry"
        ],
        [
         23,
         "2015-11-25 13:36:22",
         "Corey",
         6063,
         "Andrews"
        ],
        [
         48,
         "2017-09-26 16:31:56",
         "Robert",
         3454,
         "Murphy"
        ],
        [
         20,
         "2017-04-11 16:35:33",
         "Cheryl",
         7554,
         "Huerta"
        ],
        [
         30,
         "2015-12-25 20:24:37",
         "Emily",
         6145,
         "Hawkins"
        ],
        [
         25,
         "2015-12-28 04:21:39",
         "Charles",
         8304,
         "Berry"
        ],
        [
         25,
         "2015-12-28 04:21:39",
         "Charles",
         8304,
         "Berry"
        ],
        [
         25,
         "2015-12-28 04:21:39",
         "Charles",
         8304,
         "Berry"
        ],
        [
         25,
         "2015-12-28 04:21:39",
         "Charles",
         8304,
         "Berry"
        ],
        [
         25,
         "2015-12-28 04:21:39",
         "Charles",
         8304,
         "Berry"
        ],
        [
         23,
         "2015-11-25 13:36:22",
         "Corey",
         6063,
         "Andrews"
        ],
        [
         48,
         "2017-09-26 16:31:56",
         "Robert",
         3454,
         "Murphy"
        ],
        [
         20,
         "2017-04-11 16:35:33",
         "Cheryl",
         7554,
         "Huerta"
        ],
        [
         32,
         "2016-10-23 14:06:51",
         "Dylan",
         2863,
         "Holmes"
        ],
        [
         36,
         "2015-12-08 20:02:43",
         "Rachel",
         5730,
         "Davis"
        ],
        [
         26,
         "2015-11-11 03:20:57",
         "Brian",
         2923,
         "Nelson"
        ],
        [
         20,
         "2015-10-21 08:27:36",
         "Amanda",
         2418,
         "Adams"
        ],
        [
         22,
         "2015-12-21 08:06:54",
         "Andrew",
         3156,
         "Baker"
        ],
        [
         20,
         "2015-11-28 02:20:29",
         "Claudia",
         428,
         "Adams"
        ],
        [
         24,
         "2016-01-11 12:03:48",
         "Anne",
         7343,
         "Clayton"
        ],
        [
         22,
         "2015-12-31 14:57:02",
         "Carol",
         10138,
         "Silva"
        ],
        [
         21,
         "2015-11-12 06:21:36",
         "Denise",
         7922,
         "Adams"
        ],
        [
         22,
         "2015-10-24 18:56:30",
         "Amanda",
         9590,
         "Allen"
        ],
        [
         44,
         "2017-06-21 19:53:27",
         "Kayla",
         2698,
         "Burton"
        ],
        [
         28,
         "2016-06-16 02:06:38",
         "Aimee",
         831,
         "Collins"
        ],
        [
         21,
         "2015-11-12 06:21:36",
         "Denise",
         8606,
         "Adams"
        ],
        [
         20,
         "2015-10-23 22:47:39",
         "Larry",
         4076,
         "Pineda"
        ],
        [
         20,
         "2015-10-31 18:51:07",
         "Aaron",
         1422,
         "Abbott"
        ],
        [
         20,
         "2015-11-12 03:23:49",
         "Amanda",
         1371,
         "Brown"
        ],
        [
         30,
         "2016-02-21 12:54:01",
         "Ashley",
         2604,
         "Evans"
        ],
        [
         59,
         "2016-12-17 11:10:48",
         "Ariana",
         1198,
         "Gross"
        ],
        [
         30,
         "2016-12-21 13:39:14",
         "Derrick",
         10370,
         "Kim"
        ],
        [
         20,
         "2016-08-26 16:09:52",
         "Dawn",
         7167,
         "Bradley"
        ],
        [
         25,
         "2016-04-27 02:59:27",
         "Glenn",
         772,
         "Hammond"
        ],
        [
         20,
         "2016-07-27 06:20:48",
         "Debra",
         7510,
         "Becker"
        ],
        [
         20,
         "2015-10-26 04:12:32",
         "Angela",
         7234,
         "Allen"
        ],
        [
         20,
         "2015-10-23 16:08:41",
         "Aaron",
         7874,
         "Abbott"
        ],
        [
         20,
         "2015-10-31 18:51:07",
         "Aaron",
         1450,
         "Abbott"
        ],
        [
         21,
         "2015-11-05 22:07:56",
         "Albert",
         9093,
         "Adams"
        ],
        [
         36,
         "2016-06-03 23:53:50",
         "David",
         5293,
         "Taylor"
        ],
        [
         20,
         "2015-10-23 16:08:41",
         "Aaron",
         7733,
         "Abbott"
        ],
        [
         56,
         "2016-02-04 23:27:36",
         "Justin",
         8366,
         "Ewing"
        ],
        [
         53,
         "2016-02-20 13:03:00",
         "Nicole",
         10168,
         "Gray"
        ],
        [
         50,
         "2017-07-31 16:56:52",
         "Jeremy",
         2498,
         "Chase"
        ],
        [
         59,
         "2016-09-06 06:21:57",
         "Lydia",
         6250,
         "Nelson"
        ],
        [
         55,
         "2017-08-11 14:24:41",
         "Gerald",
         3563,
         "Davis"
        ],
        [
         32,
         "2016-10-23 14:06:51",
         "Dylan",
         2863,
         "Holmes"
        ],
        [
         36,
         "2015-12-08 20:02:43",
         "Rachel",
         5730,
         "Davis"
        ],
        [
         32,
         "2016-10-23 14:06:51",
         "Dylan",
         2863,
         "Holmes"
        ],
        [
         36,
         "2015-12-08 20:02:43",
         "Rachel",
         5730,
         "Davis"
        ],
        [
         26,
         "2015-11-11 03:20:57",
         "Brian",
         2923,
         "Nelson"
        ],
        [
         20,
         "2015-10-21 08:27:36",
         "Amanda",
         2418,
         "Adams"
        ],
        [
         22,
         "2015-12-21 08:06:54",
         "Andrew",
         3156,
         "Baker"
        ],
        [
         32,
         "2016-10-23 14:06:51",
         "Dylan",
         2863,
         "Holmes"
        ],
        [
         36,
         "2015-12-08 20:02:43",
         "Rachel",
         5730,
         "Davis"
        ],
        [
         32,
         "2016-10-23 14:06:51",
         "Dylan",
         2863,
         "Holmes"
        ],
        [
         36,
         "2015-12-08 20:02:43",
         "Rachel",
         5730,
         "Davis"
        ],
        [
         32,
         "2016-10-23 14:06:51",
         "Dylan",
         2863,
         "Holmes"
        ],
        [
         36,
         "2015-12-08 20:02:43",
         "Rachel",
         5730,
         "Davis"
        ],
        [
         32,
         "2016-10-23 14:06:51",
         "Dylan",
         2863,
         "Holmes"
        ],
        [
         36,
         "2015-12-08 20:02:43",
         "Rachel",
         5730,
         "Davis"
        ],
        [
         32,
         "2016-10-23 14:06:51",
         "Dylan",
         2863,
         "Holmes"
        ],
        [
         36,
         "2015-12-08 20:02:43",
         "Rachel",
         5730,
         "Davis"
        ],
        [
         26,
         "2015-11-11 03:20:57",
         "Brian",
         2923,
         "Nelson"
        ],
        [
         20,
         "2015-10-24 11:23:51",
         "Abigail",
         7528,
         "Ali"
        ],
        [
         25,
         "2016-01-13 17:36:30",
         "Amanda",
         5069,
         "Ball"
        ],
        [
         20,
         "2015-10-24 11:23:51",
         "Abigail",
         3089,
         "Ali"
        ],
        [
         24,
         "2016-03-09 10:48:14",
         "Tammy",
         8653,
         "Davis"
        ],
        [
         20,
         "2016-01-01 13:50:40",
         "Alvin",
         7166,
         "Adams"
        ],
        [
         20,
         "2016-02-27 21:13:44",
         "Alex",
         9546,
         "Barnes"
        ],
        [
         20,
         "2016-07-23 20:51:06",
         "Lisa",
         5468,
         "Gamble"
        ],
        [
         20,
         "2015-10-23 12:40:19",
         "Brett",
         205,
         "Bryant"
        ],
        [
         20,
         "2016-01-26 01:49:23",
         "Alicia",
         719,
         "Avila"
        ],
        [
         20,
         "2016-07-02 02:32:30",
         "Ann",
         1094,
         "Elliott"
        ],
        [
         51,
         "2016-10-09 14:47:51",
         "Melanie",
         223,
         "Hill"
        ],
        [
         32,
         "2016-08-23 20:36:12",
         "Shawn",
         2637,
         "Jones"
        ],
        [
         27,
         "2016-12-18 10:11:23",
         "Joshua",
         2060,
         "Long"
        ],
        [
         21,
         "2016-01-10 09:41:14",
         "Jose",
         9487,
         "Bailey"
        ],
        [
         34,
         "2016-05-08 16:27:01",
         "Julie",
         10245,
         "Cook"
        ],
        [
         28,
         "2015-11-26 11:23:50",
         "Gary",
         3750,
         "Barker"
        ],
        [
         23,
         "2016-01-06 12:22:08",
         "Amber",
         3334,
         "Casey"
        ],
        [
         35,
         "2016-11-19 22:36:49",
         "Aaron",
         5333,
         "Clark"
        ],
        [
         20,
         "2015-10-24 11:23:51",
         "Abigail",
         1341,
         "Ali"
        ],
        [
         26,
         "2017-06-12 16:02:59",
         "Mary",
         5151,
         "Jordan"
        ],
        [
         39,
         "2017-04-04 06:05:03",
         "Eric",
         3351,
         "Taylor"
        ],
        [
         58,
         "2016-09-18 07:28:19",
         "Kevin",
         2955,
         "Young"
        ],
        [
         43,
         "2016-11-29 22:22:47",
         "Gary",
         6558,
         "Tanner"
        ],
        [
         20,
         "2015-10-24 11:23:51",
         "Abigail",
         7528,
         "Ali"
        ],
        [
         20,
         "2015-10-24 11:23:51",
         "Abigail",
         7528,
         "Ali"
        ],
        [
         25,
         "2016-01-13 17:36:30",
         "Amanda",
         5069,
         "Ball"
        ],
        [
         20,
         "2015-10-24 11:23:51",
         "Abigail",
         3089,
         "Ali"
        ],
        [
         20,
         "2015-10-24 11:23:51",
         "Abigail",
         7528,
         "Ali"
        ],
        [
         20,
         "2015-10-24 11:23:51",
         "Abigail",
         7528,
         "Ali"
        ],
        [
         20,
         "2015-10-24 11:23:51",
         "Abigail",
         7528,
         "Ali"
        ],
        [
         20,
         "2015-10-24 11:23:51",
         "Abigail",
         7528,
         "Ali"
        ],
        [
         20,
         "2015-10-24 11:23:51",
         "Abigail",
         7528,
         "Ali"
        ],
        [
         25,
         "2016-01-13 17:36:30",
         "Amanda",
         5069,
         "Ball"
        ],
        [
         20,
         "2015-10-24 11:23:51",
         "Abigail",
         3089,
         "Ali"
        ],
        [
         27,
         "2015-12-16 15:20:05",
         "Anne",
         5494,
         "Allen"
        ],
        [
         23,
         "2016-06-23 14:38:00",
         "Julie",
         10663,
         "Cox"
        ],
        [
         20,
         "2015-10-28 05:00:33",
         "Barry",
         1704,
         "Lynn"
        ],
        [
         22,
         "2016-03-01 07:11:48",
         "David",
         2482,
         "Moss"
        ],
        [
         21,
         "2016-01-07 08:11:35",
         "Alison",
         159,
         "Bell"
        ],
        [
         31,
         "2016-03-07 01:01:24",
         "Daniel",
         5309,
         "Roy"
        ],
        [
         39,
         "2015-12-04 03:15:28",
         "Jill",
         327,
         "Taylor"
        ],
        [
         34,
         "2017-08-22 00:01:29",
         "Mark",
         8978,
         "Jones"
        ],
        [
         23,
         "2016-02-18 08:44:33",
         "Nancy",
         1362,
         "Case"
        ],
        [
         27,
         "2016-02-06 15:31:57",
         "Jason",
         995,
         "Horne"
        ],
        [
         27,
         "2015-12-16 15:20:05",
         "Anne",
         5494,
         "Allen"
        ],
        [
         27,
         "2015-12-16 15:20:05",
         "Anne",
         5494,
         "Allen"
        ],
        [
         27,
         "2015-12-16 15:20:05",
         "Anne",
         5494,
         "Allen"
        ],
        [
         27,
         "2015-12-16 15:20:05",
         "Anne",
         5494,
         "Allen"
        ],
        [
         24,
         "2016-01-11 23:08:27",
         "Alex",
         2293,
         "Bean"
        ],
        [
         30,
         "2016-01-06 09:58:56",
         "Erik",
         46,
         "Kelley"
        ],
        [
         21,
         "2015-12-27 23:43:42",
         "Anne",
         2858,
         "Bond"
        ],
        [
         20,
         "2015-10-24 05:05:28",
         "Amy",
         1706,
         "Adams"
        ],
        [
         22,
         "2015-11-18 23:11:15",
         "Ann",
         2048,
         "Chung"
        ],
        [
         22,
         "2016-01-02 01:40:52",
         "Mary",
         6014,
         "Luna"
        ],
        [
         24,
         "2016-05-12 16:28:27",
         "Jay",
         1967,
         "Flynn"
        ],
        [
         48,
         "2017-06-01 23:13:27",
         "Joe",
         8578,
         "Pham"
        ],
        [
         25,
         "2015-11-26 17:42:37",
         "Jon",
         427,
         "Burke"
        ]
       ],
       "datasetInfos": [],
       "dbfsResultPath": null,
       "isJsonSchema": true,
       "metadata": {},
       "overflow": false,
       "plotOptions": {
        "customPlotOptions": {},
        "displayType": "table",
        "pivotAggregation": null,
        "pivotColumns": null,
        "xColumns": null,
        "yColumns": null
       },
       "removedWidgets": [],
       "schema": [
        {
         "metadata": "{}",
         "name": "age",
         "type": "\"long\""
        },
        {
         "metadata": "{}",
         "name": "date_joined",
         "type": "\"string\""
        },
        {
         "metadata": "{}",
         "name": "first_name",
         "type": "\"string\""
        },
        {
         "metadata": "{}",
         "name": "ind",
         "type": "\"long\""
        },
        {
         "metadata": "{}",
         "name": "last_name",
         "type": "\"string\""
        }
       ],
       "type": "table"
      }
     },
     "output_type": "display_data"
    }
   ],
   "source": [
    "# File location and type\n",
    "# Asterisk(*) indicates reading all the content of the specified file that have .json extension\n",
    "file_location =\"dbfs:/mnt/0a1e5630c127/topics/0a1e5630c127.user/partition=0/*.json\"\n",
    "file_type = \"json\"\n",
    "# Ask Spark to infer the schema\n",
    "infer_schema = \"true\"\n",
    "# Read in JSONs from mounted S3 bucket\n",
    "df = spark.read.format(file_type) \\\n",
    ".option(\"inferSchema\", infer_schema) \\\n",
    ".load(file_location)\n",
    "# Display Spark dataframe to check its content\n",
    "display(df)"
   ]
  }
 ],
 "metadata": {
  "application/vnd.databricks.v1+notebook": {
   "dashboards": [],
   "language": "python",
   "notebookMetadata": {
    "mostRecentlyExecutedCommandWithImplicitDF": {
     "commandId": 2103590923200594,
     "dataframes": [
      "_sqldf"
     ]
    },
    "pythonIndentUnit": 4
   },
   "notebookName": "df_user",
   "widgets": {}
  }
 },
 "nbformat": 4,
 "nbformat_minor": 0
}
