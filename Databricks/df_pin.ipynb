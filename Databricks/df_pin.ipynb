{
 "cells": [
  {
   "cell_type": "code",
   "execution_count": 0,
   "metadata": {
    "application/vnd.databricks.v1+cell": {
     "cellMetadata": {
      "byteLimit": 2048000,
      "rowLimit": 10000
     },
     "inputWidgets": {},
     "nuid": "6312212c-95ad-4e34-815c-cc606ef19bf3",
     "showTitle": false,
     "title": ""
    }
   },
   "outputs": [
    {
     "output_type": "display_data",
     "data": {
      "text/html": [
       "<style scoped>\n",
       "  .ansiout {\n",
       "    display: block;\n",
       "    unicode-bidi: embed;\n",
       "    white-space: pre-wrap;\n",
       "    word-wrap: break-word;\n",
       "    word-break: break-all;\n",
       "    font-family: \"Menlo\", \"Monaco\", \"Consolas\", \"Ubuntu Mono\", \"Source Code Pro\", monospace;\n",
       "    font-size: 13px;\n",
       "    color: #555;\n",
       "    margin-left: 4px;\n",
       "    line-height: 19px;\n",
       "  }\n",
       "</style>\n",
       "<div class=\"ansiout\">Out[1]: True</div>"
      ]
     },
     "metadata": {
      "application/vnd.databricks.v1+output": {
       "addedWidgets": {},
       "arguments": {},
       "data": "<div class=\"ansiout\">Out[1]: True</div>",
       "datasetInfos": [],
       "metadata": {},
       "removedWidgets": [],
       "type": "html"
      }
     },
     "output_type": "display_data"
    }
   ],
   "source": [
    "# pyspark functions\n",
    "from pyspark.sql.functions import *\n",
    "# URL processing\n",
    "import urllib\n",
    "# Define the path to the Delta table\n",
    "delta_table_path = \"dbfs:/user/hive/warehouse/authentication_credentials\"\n",
    "\n",
    "# Read the Delta table to a Spark DataFrame\n",
    "aws_keys_df = spark.read.format(\"delta\").load(delta_table_path)\n",
    "\n",
    "# Get the AWS access key and secret key from the spark dataframe\n",
    "ACCESS_KEY = aws_keys_df.select('Access key ID').collect()[0]['Access key ID']\n",
    "SECRET_KEY = aws_keys_df.select('Secret access key').collect()[0]['Secret access key']\n",
    "# Encode the secrete key\n",
    "ENCODED_SECRET_KEY = urllib.parse.quote(string=SECRET_KEY, safe=\"\")\n",
    "# AWS S3 bucket name\n",
    "AWS_S3_BUCKET = \"user-0a1e5630c127-bucket\"\n",
    "# Mount name for the bucket\n",
    "MOUNT_NAME = \"/mnt/0a1e5630c127/pin\"\n",
    "# Source url\n",
    "SOURCE_URL = \"s3n://{0}:{1}@{2}\".format(ACCESS_KEY, ENCODED_SECRET_KEY, AWS_S3_BUCKET)\n",
    "# Mount the drive\n",
    "dbutils.fs.mount(SOURCE_URL, MOUNT_NAME)"
   ]
  },
  {
   "cell_type": "code",
   "execution_count": 0,
   "metadata": {
    "application/vnd.databricks.v1+cell": {
     "cellMetadata": {
      "byteLimit": 2048000,
      "rowLimit": 10000
     },
     "inputWidgets": {},
     "nuid": "1719aad4-6987-4fa4-ba13-0ed66799fa12",
     "showTitle": false,
     "title": ""
    }
   },
   "outputs": [
    {
     "output_type": "display_data",
     "data": {
      "text/html": [
       "<style scoped>\n",
       "  .table-result-container {\n",
       "    max-height: 300px;\n",
       "    overflow: auto;\n",
       "  }\n",
       "  table, th, td {\n",
       "    border: 1px solid black;\n",
       "    border-collapse: collapse;\n",
       "  }\n",
       "  th, td {\n",
       "    padding: 5px;\n",
       "  }\n",
       "  th {\n",
       "    text-align: left;\n",
       "  }\n",
       "</style><div class='table-result-container'><table class='table-result'><thead style='background-color: white'><tr><th>path</th><th>name</th><th>size</th><th>modificationTime</th></tr></thead><tbody><tr><td>dbfs:/mnt/0a1e5630c127/pin/kafka-connect-s3/</td><td>kafka-connect-s3/</td><td>0</td><td>1704730589206</td></tr><tr><td>dbfs:/mnt/0a1e5630c127/pin/topics/</td><td>topics/</td><td>0</td><td>1704730589206</td></tr></tbody></table></div>"
      ]
     },
     "metadata": {
      "application/vnd.databricks.v1+output": {
       "addedWidgets": {},
       "aggData": [],
       "aggError": "",
       "aggOverflow": false,
       "aggSchema": [],
       "aggSeriesLimitReached": false,
       "aggType": "",
       "arguments": {},
       "columnCustomDisplayInfos": {},
       "data": [
        [
         "dbfs:/mnt/0a1e5630c127/pin/kafka-connect-s3/",
         "kafka-connect-s3/",
         0,
         1704730589206
        ],
        [
         "dbfs:/mnt/0a1e5630c127/pin/topics/",
         "topics/",
         0,
         1704730589206
        ]
       ],
       "datasetInfos": [],
       "dbfsResultPath": null,
       "isJsonSchema": true,
       "metadata": {},
       "overflow": false,
       "plotOptions": {
        "customPlotOptions": {},
        "displayType": "table",
        "pivotAggregation": null,
        "pivotColumns": null,
        "xColumns": null,
        "yColumns": null
       },
       "removedWidgets": [],
       "schema": [
        {
         "metadata": "{}",
         "name": "path",
         "type": "\"string\""
        },
        {
         "metadata": "{}",
         "name": "name",
         "type": "\"string\""
        },
        {
         "metadata": "{}",
         "name": "size",
         "type": "\"long\""
        },
        {
         "metadata": "{}",
         "name": "modificationTime",
         "type": "\"long\""
        }
       ],
       "type": "table"
      }
     },
     "output_type": "display_data"
    }
   ],
   "source": [
    "display(dbutils.fs.ls(\"/mnt/0a1e5630c127/pin\"))"
   ]
  },
  {
   "cell_type": "code",
   "execution_count": 0,
   "metadata": {
    "application/vnd.databricks.v1+cell": {
     "cellMetadata": {
      "byteLimit": 2048000,
      "implicitDf": true,
      "rowLimit": 10000
     },
     "inputWidgets": {},
     "nuid": "d1d77f45-b979-4d1b-82ca-5c659b7ed7fd",
     "showTitle": false,
     "title": ""
    }
   },
   "outputs": [
    {
     "output_type": "display_data",
     "data": {
      "text/html": [
       "<style scoped>\n",
       "  .table-result-container {\n",
       "    max-height: 300px;\n",
       "    overflow: auto;\n",
       "  }\n",
       "  table, th, td {\n",
       "    border: 1px solid black;\n",
       "    border-collapse: collapse;\n",
       "  }\n",
       "  th, td {\n",
       "    padding: 5px;\n",
       "  }\n",
       "  th {\n",
       "    text-align: left;\n",
       "  }\n",
       "</style><div class='table-result-container'><table class='table-result'><thead style='background-color: white'><tr><th>key</th><th>value</th></tr></thead><tbody><tr><td>spark.databricks.delta.formatCheck.enabled</td><td>false</td></tr></tbody></table></div>"
      ]
     },
     "metadata": {
      "application/vnd.databricks.v1+output": {
       "addedWidgets": {},
       "aggData": [],
       "aggError": "",
       "aggOverflow": false,
       "aggSchema": [],
       "aggSeriesLimitReached": false,
       "aggType": "",
       "arguments": {},
       "columnCustomDisplayInfos": {},
       "data": [
        [
         "spark.databricks.delta.formatCheck.enabled",
         "false"
        ]
       ],
       "datasetInfos": [],
       "dbfsResultPath": null,
       "isJsonSchema": true,
       "metadata": {},
       "overflow": false,
       "plotOptions": {
        "customPlotOptions": {},
        "displayType": "table",
        "pivotAggregation": null,
        "pivotColumns": null,
        "xColumns": null,
        "yColumns": null
       },
       "removedWidgets": [],
       "schema": [
        {
         "metadata": "{}",
         "name": "key",
         "type": "\"string\""
        },
        {
         "metadata": "{}",
         "name": "value",
         "type": "\"string\""
        }
       ],
       "type": "table"
      }
     },
     "output_type": "display_data"
    }
   ],
   "source": [
    "%sql\n",
    "SET spark.databricks.delta.formatCheck.enabled=false"
   ]
  },
  {
   "cell_type": "code",
   "execution_count": 0,
   "metadata": {
    "application/vnd.databricks.v1+cell": {
     "cellMetadata": {
      "byteLimit": 2048000,
      "rowLimit": 10000
     },
     "inputWidgets": {},
     "nuid": "779c5429-536f-4dec-ae30-5778d1c6141c",
     "showTitle": false,
     "title": ""
    }
   },
   "outputs": [
    {
     "output_type": "display_data",
     "data": {
      "text/html": [
       "<style scoped>\n",
       "  .table-result-container {\n",
       "    max-height: 300px;\n",
       "    overflow: auto;\n",
       "  }\n",
       "  table, th, td {\n",
       "    border: 1px solid black;\n",
       "    border-collapse: collapse;\n",
       "  }\n",
       "  th, td {\n",
       "    padding: 5px;\n",
       "  }\n",
       "  th {\n",
       "    text-align: left;\n",
       "  }\n",
       "</style><div class='table-result-container'><table class='table-result'><thead style='background-color: white'><tr><th>category</th><th>description</th><th>downloaded</th><th>follower_count</th><th>image_src</th><th>index</th><th>is_image_or_video</th><th>poster_name</th><th>save_location</th><th>tag_list</th><th>title</th><th>unique_id</th></tr></thead><tbody><tr><td>travel</td><td>This Costa Rica itinerary is the ultimate guide to spending two weeks in Costa Rica. Find out about visiting La Fortuna, Arenal, Monteverde, Naranjo, Corcovado National Park, Or… </td><td>1</td><td>10k</td><td>https://i.pinimg.com/originals/30/93/cb/3093cb01d9de2d125fda8ba5e3e41946.jpg</td><td>10138</td><td>image</td><td>Wanderlust Chloe ✈️ Travel guides, inspo and adventure travel ✈️</td><td>Local save in /data/travel</td><td>Costa Rica Travel,Rio Celeste Costa Rica,Dream Vacations,Vacation Spots,Vacation Travel,Travel Pictures,Travel Photos,Fortuna Costa Rica,Costa Rica Pictures</td><td>14 Amazing Things To Do In Costa Rica | Volcanoes, Waterfalls, Wildlife And More</td><td>927c4658-cc3f-4b92-9b5c-70743d0c238d</td></tr><tr><td>diy-and-crafts</td><td>This post may contain affiliate links, read our Disclosure Policy for more information. As an Amazon Associate I earn from qualifying purchases, thank you! Make some cute handpr… </td><td>1</td><td>892k</td><td>https://i.pinimg.com/originals/ff/fe/38/fffe384f3ec18a0d87cb2d80cc8c1499.jpg</td><td>3156</td><td>image</td><td>Michelle {CraftyMorning.com}</td><td>Local save in /data/diy-and-crafts</td><td>Christmas Gifts For Parents,Christmas Decorations For Kids,Christmas Crafts For Toddlers,Preschool Christmas,Christmas Crafts For Gifts,Christmas Activities,Toddler Crafts,Kids Christmas,Christmas Feeling</td><td>Handprint Reindeer Ornaments - Crafty Morning</td><td>fa6e31a4-18c2-4eca-a6d8-e903eee2c2a4</td></tr><tr><td>finance</td><td>If you love budgeting, make sure to give Dave Ramsey's 7 Baby Steps a try. Follow these steps to begin your debt snowball, build an emergency fund, invest and reach riches. I ca… </td><td>1</td><td>26k</td><td>https://i.pinimg.com/originals/1e/9d/90/1e9d906e4e150e3b95187f3b76ea7c71.png</td><td>5494</td><td>image</td><td>Living Low Key | Save Money, Make Money, & Frugal Living</td><td>Local save in /data/finance</td><td>Financial Peace,Financial Tips,Saving Money Quotes,Total Money Makeover,Budgeting Finances,Money Management,Wealth Management,Personal Finance,Making Ideas</td><td>Dave Ramsey's 7 Baby Steps: What Are They And Will They Work For You</td><td>8fb2af68-543b-4639-8119-de33d28706ed</td></tr><tr><td>finance</td><td>If you love budgeting, make sure to give Dave Ramsey's 7 Baby Steps a try. Follow these steps to begin your debt snowball, build an emergency fund, invest and reach riches. I ca… </td><td>1</td><td>26k</td><td>https://i.pinimg.com/originals/1e/9d/90/1e9d906e4e150e3b95187f3b76ea7c71.png</td><td>5494</td><td>image</td><td>Living Low Key | Save Money, Make Money, & Frugal Living</td><td>Local save in /data/finance</td><td>Financial Peace,Financial Tips,Saving Money Quotes,Total Money Makeover,Budgeting Finances,Money Management,Wealth Management,Personal Finance,Making Ideas</td><td>Dave Ramsey's 7 Baby Steps: What Are They And Will They Work For You</td><td>8fb2af68-543b-4639-8119-de33d28706ed</td></tr><tr><td>christmas</td><td>Here are the best DIY Christmas Centerpieces ideas perfect for your Christmas & holiday season home decor. From Christmas Vignettes to Table Centerpieces.</td><td>1</td><td>500k</td><td>https://i.pinimg.com/originals/aa/6d/0f/aa6d0f44d7c1c96b998cb9aa6c4446b8.png</td><td>2418</td><td>image</td><td>HikenDip</td><td>Local save in /data/christmas</td><td>Farmhouse Christmas Decor,Rustic Christmas,Christmas Time,Vintage Christmas,Xmas,Primitive Christmas Crafts,Christmas Vignette,Indoor Christmas Decorations,Diy Christmas Ornaments</td><td>100 DIY Christmas Centerpieces You'll Love To Decorate Your Home With For The Christmas Season - Hike n Dip</td><td>da8745a6-5160-46c4-877d-181d50a729fd</td></tr><tr><td>quotes</td><td>summcoco gives you inspiration for the women fashion trends you want. Thinking about a new look or lifestyle? This is your ultimate resource to get the hottest trends. 45 Top Li… </td><td>1</td><td>306k</td><td>https://i.pinimg.com/originals/bb/c0/e6/bbc0e6a797079505f11ac12bcb0b8c66.jpg</td><td>7922</td><td>image</td><td>Sumcoco | Decor Ideas, Hairstyles, Nails Fashion Advice</td><td>Local save in /data/quotes</td><td>Life Quotes Love,Inspirational Quotes About Love,Mood Quotes,Motivational Quotes,Tears Quotes,Quotes About Sadness,Deep Quotes About Life,Quotes Quotes,Quote Life</td><td>45 Top Life Quotes School Did Not Teach You</td><td>a584581c-1b38-4731-a1cc-f36115ecf229</td></tr><tr><td>event-planning</td><td>Personalize your event or shop with a customized neon sign. Make a statement with your own custom vibes! This light is 32 -40 inches (80cm-100cm) if you need something bigger, p… </td><td>1</td><td>111</td><td>https://i.pinimg.com/originals/e9/c0/7c/e9c07cf0cf16cab23764a36718ab76c1.jpg</td><td>4508</td><td>image</td><td>Life of Neon | Custom Neon Light Signs | Home Decor Wall Art</td><td>Local save in /data/event-planning</td><td>Our Wedding,Wedding Venues,Dream Wedding,Wedding Cakes,Church Wedding,Wedding Flowers,Lace Wedding,Wedding Rings,Wedding Dresses</td><td>Custom Event and Shop Neon Sign Lights - Event & Shop</td><td>9064f4a2-2753-476c-815e-db360f45a93e</td></tr><tr><td>travel</td><td>Are you traveling to Paris during the summer? Find out what to do in Paris, France during the summer. Fun summertime activities in Paris. Enjoy the incredible outdoors when trav… </td><td>1</td><td>3k</td><td>https://i.pinimg.com/originals/6c/4c/90/6c4c90bba27ebf8c8bfe4c1acfb9f07a.jpg</td><td>9979</td><td>image</td><td>Petite in Paris</td><td>Local save in /data/travel</td><td>Torre Eiffel Paris,Tour Eiffel,Picnic In Paris,Hello France,Voyage Europe,Destination Voyage,Beautiful Places To Travel,Travel Aesthetic,Paris Travel</td><td>Paris in the Summer. 10 fun things to do in Paris in the Summertime • Petite in Paris</td><td>2b2abc85-fc51-481f-8ae6-17681993da28</td></tr><tr><td>diy-and-crafts</td><td>DIY Dollar Store Valentine’s Day Heart Wreath Decoration. There are so many great Valentine crafts at the Dollar Tree right now! During our last trip, we picked up a few supplie… </td><td>1</td><td>9k</td><td>https://i.pinimg.com/originals/dc/f6/8a/dcf68adcc63c339c24fa5664f1115994.png</td><td>2698</td><td>image</td><td>South Lumina Style</td><td>Local save in /data/diy-and-crafts</td><td>Valentine Day Wreaths,Valentines Day Hearts,Valentines Day Decorations,Valentine Day Crafts,Holiday Crafts,Diy Christmas,Christmas Wreaths,Valentine Tree,Printable Valentine</td><td>DIY Dollar Tree Valentine's Day Wreath</td><td>73f16302-4871-486a-8836-947530526337</td></tr><tr><td>home-decor</td><td>Holiday mantle decor, Christmas decor, metallic mercury glass style Christmas trees, eucalyptus vine, evergreen pine branches, white neutral holiday decor, cozy mantle for the h… </td><td>1</td><td>83k</td><td>https://i.pinimg.com/originals/9d/82/1a/9d821a80acd8f90c16454e978bd9b115.jpg</td><td>6145</td><td>image</td><td>Stylin by Aylin</td><td>Local save in /data/home-decor</td><td>Winter Home Decor,Christmas Living Room Decor,Living Room Decor Cozy,Christmas Decor,Cozy Fireplace,Rustic Fireplace Decor,Fireplace Decorations,Rustic Room,House Decorations</td><td>HOLIDAY MANTLE DECOR - @AMAZON & @TARGET FINDS</td><td>82e13a07-db99-43a3-b1c0-89a4b75821da</td></tr><tr><td>education</td><td>Podcasts for Teachers or Parents of Teenagers: Teaching teens middle school and high school can feel joyful and rewarding most days, but can also frustrate you with one challeng… </td><td>1</td><td>25k</td><td>https://i.pinimg.com/originals/50/19/31/501931a27ee4d076658980851b995b2c.jpg</td><td>4315</td><td>image</td><td>Math Giraffe</td><td>Local save in /data/education</td><td>Middle School Classroom,High School Students,High School Teachers,Middle School Tips,High School Counseling,Ela Classroom,High School Science,Future Classroom,Google Classroom</td><td>Podcasts for Teachers or Parents of Teenagers</td><td>21b59ba9-829d-4c33-8c27-4cd4c56d26b8</td></tr><tr><td>education</td><td>Podcasts for Teachers or Parents of Teenagers: Teaching teens middle school and high school can feel joyful and rewarding most days, but can also frustrate you with one challeng… </td><td>1</td><td>25k</td><td>https://i.pinimg.com/originals/50/19/31/501931a27ee4d076658980851b995b2c.jpg</td><td>4315</td><td>image</td><td>Math Giraffe</td><td>Local save in /data/education</td><td>Middle School Classroom,High School Students,High School Teachers,Middle School Tips,High School Counseling,Ela Classroom,High School Science,Future Classroom,Google Classroom</td><td>Podcasts for Teachers or Parents of Teenagers</td><td>21b59ba9-829d-4c33-8c27-4cd4c56d26b8</td></tr><tr><td>event-planning</td><td>Sacramento California Wedding 2 Chic Events & Design Jodi Yorston Photography Wilson Vineyards Barn Miosa Couture Yellow Barn Vineyard Outdoor Candles DIY</td><td>1</td><td>6M</td><td>https://i.pinimg.com/originals/7e/45/90/7e45905fefa36347e83333fd6d091140.jpg</td><td>5069</td><td>image</td><td>Style Me Pretty</td><td>Local save in /data/event-planning</td><td>60th Anniversary Parties,Anniversary Decorations,Golden Anniversary,25th Wedding Anniversary,Anniversary Pictures,Anniversary Ideas,Birthday Decorations,Event Planning Design,Event Design</td><td>The Vault: Curated & Refined Wedding Inspiration</td><td>b75b6f87-deb3-444f-b29e-ce9161b2df49</td></tr><tr><td>mens-fashion</td><td>Black And Brown Outfits You Need To Try This Fall Season. The trick with black and brown outfits is to know how to combine colors, fabrics, and shapes to get a cohesive look. So… </td><td>1</td><td>1M</td><td>https://i.pinimg.com/originals/3e/49/09/3e4909c0ccc4dbba3cad83d97eab4a61.png</td><td>7343</td><td>image</td><td>Cultura Colectiva</td><td>Local save in /data/mens-fashion</td><td>Winter Outfits Men,Stylish Mens Outfits,Casual Outfits,Men Casual,Smart Casual,Outfits For Men,Fall Outfits,Mens Winter Boots,Business Casual Men</td><td>This Fashion Rule Is Nonsense, And We Should All Forget About It</td><td>b8c63a95-6fe8-4d7f-9455-1eef3462fee0</td></tr><tr><td>home-decor</td><td>Beautiful and easy ways to update every room in your home with fall decor. Plus, my favorite finds in fall decor for 2020!</td><td>1</td><td>92k</td><td>https://i.pinimg.com/originals/e5/ae/dc/e5aedc14ce557e3a69f672e0f8c88f6e.png</td><td>6063</td><td>image</td><td>Kristen | Lifestyle, Mom Tips & Teacher Stuff Blog</td><td>Local save in /data/home-decor</td><td>Fall Home Decor,Autumn Home,Fall Decor Outdoor,Front Porch Fall Decor,Home Decor Ideas,Porch Ideas For Fall,Fall Outdoor Decorating,Decorating Ideas For Fall,Fall Front Doors</td><td>41 Gorgeous Fall Decor Ideas For Your Home - Chaylor & Mads</td><td>60693727-4927-4bd6-a8c5-096a392d63e6</td></tr><tr><td>education</td><td>15 Essential Classroom Items For First Year Teachers / First Year Teacher Must Haves</td><td>1</td><td>5k</td><td>https://i.pinimg.com/originals/4b/b9/a8/4bb9a85f609a8384ed9c9ab14e7bcea0.jpg</td><td>4137</td><td>image</td><td>Write Your Story | Budgeting, Healthy Lifestyle, Faith</td><td>Local save in /data/education</td><td>1st Year Teachers,First Year Teaching,First Grade Teachers,Elementary Teacher,Montessori Elementary,Teaching Reading,History Teachers,High School Classroom,First Grade Classroom</td><td>15 Essential Classroom Items For First Year Teachers / First Year Teacher Must Haves</td><td>bf275054-4464-448b-9143-1bf101aa366d</td></tr><tr><td>christmas</td><td>Transform mini terra cotta pots into the sweetest gingerbread house ornaments! Kids will love making this adorable Christmas craft to hang on the tree.</td><td>1</td><td>20k</td><td>https://i.pinimg.com/originals/13/28/09/1328097d7c290d1bf8642b01a6ba1c6c.jpg</td><td>2411</td><td>image</td><td>Projects with Kids</td><td>Local save in /data/christmas</td><td>Noel Christmas,Diy Christmas Ornaments,Homemade Christmas,Simple Christmas,Gingerbread Ornaments,Christmas Gingerbread,Gingerbread Houses,Preschool Christmas,Ornaments Ideas</td><td>The Sweetest Gingerbread House Ornaments Kids Can Make</td><td>4e11801e-7a64-4f1e-90dd-e900677595c5</td></tr><tr><td>mens-fashion</td><td>Women's T-shirt. Design inspired by the rock band The Killers' hit \"Mr. Brightside\". One of the greatest song from the album Hot Fuss released in 2004. Soft and light, 100% cott… </td><td>1</td><td>27</td><td>https://i.pinimg.com/originals/8c/42/39/8c42391d35fcad51a4a79f7cd81bf26d.jpg</td><td>7166</td><td>image</td><td>Mala Rock | Rock T-shirts</td><td>Local save in /data/mens-fashion</td><td>Mr Brightside,Rock T Shirts,Greatest Songs,Timeless Classic,Rock Bands,Album,T Shirts For Women,Inspired,Hot</td><td>The Killers - Mr. Brightside - Women's T-Shirt - Heather Dark Grey / S</td><td>4a844b03-e161-47a1-904b-591eb5dc4fb1</td></tr><tr><td>travel</td><td>On our Calgary to Vancouver road trip we got to spend time in Banff, Canada. We visited the stunning Lake Moraine as well as Lake Louise and plenty of other of Canada's natural… </td><td>1</td><td>7k</td><td>https://i.pinimg.com/videos/thumbnails/originals/57/9d/52/579d52242ae5609978c754d393e44e81.0000001.jpg</td><td>9672</td><td>video</td><td>Travel Mad Mum</td><td>Local save in /data/travel</td><td>Beautiful Places To Travel,Cool Places To Visit,Beautiful Roads,Beautiful Scenery,Wonderful Places,Lac Moraine,Moraine Lake,Lac Louise,Natur Wallpaper</td><td>Lake Moraine, Banff, Canada</td><td>1a5050a4-ac82-472c-aeff-3457de8bbee9</td></tr><tr><td>event-planning</td><td>Do you love planning parties? Do you want to work-at-home? This post covers everything you need to know about becoming a home-based event planner!</td><td>1</td><td>110k</td><td>https://i.pinimg.com/originals/4d/a3/a4/4da3a4730418239f1b43ce81fb032c15.jpg</td><td>4913</td><td>image</td><td>The Work at Home Woman</td><td>Local save in /data/event-planning</td><td>Event Planning Tips,Event Planning Business,Party Planning,Business Ideas,Craft Business,Business Chic,Business Inspiration,Business Goals,Business Opportunities</td><td>How to Work From Home as an Event Planner</td><td>4d2d79c6-9ca8-46c9-a38e-931c5d967804</td></tr><tr><td>diy-and-crafts</td><td>One thing I love about Crafts is how the evolve! These toilet paper rolls are adorable and modern. I love that something as simple as a recycled toilet paper roll can be taken t… </td><td>1</td><td>502k</td><td>https://i.pinimg.com/originals/c6/cd/0d/c6cd0d04da9cfc11566cfd34eeb1f918.jpg</td><td>2959</td><td>image</td><td>CraftGossip.com</td><td>Local save in /data/diy-and-crafts</td><td>Toilet Paper Roll Crafts,Cardboard Crafts,Diy Paper,Paper Crafting,Toilet Paper Rolls,Cardboard Playhouse,Paper Art,Kids Crafts,Toddler Crafts</td><td>The Cutest Toilet Paper Crafts</td><td>439cac4b-18e8-4aaa-88c5-edb26a701111</td></tr><tr><td>travel</td><td>35 European bucket list destinations for any traveler heading to Europe. From Cinque Terre, Italy to Iceland - there are so many amazing sites to see in Europe.</td><td>1</td><td>28k</td><td>https://i.pinimg.com/originals/71/04/1a/71041ad83ede43d9665741e719c58a86.jpg</td><td>9875</td><td>image</td><td>Nicki </td><td>Local save in /data/travel</td><td>Backpacking Europe,Europe Travel Guide,Travel Guides,Travel Packing,Traveling Europe,Travelling,Travel Backpack,Budget Travel,2 Week Europe Itinerary</td><td>European Bucket List: 35 Things NOT To Miss When Traveling Europe</td><td>782dcbad-ff91-40a6-ba60-216efe29adb7</td></tr><tr><td>art</td><td>Fashion designer Issac Mizrahi’s Greenwich Village home is an amalgamation of three apartments that was 20 years in the making</td><td>1</td><td>3M</td><td>https://i.pinimg.com/originals/f4/6c/54/f46c546a2e480022a42d842b7dca157e.jpg</td><td>428</td><td>image</td><td>Architectural Digest</td><td>Local save in /data/art</td><td>Modern Art,Contemporary Art,Contemporary Kitchens,Contemporary Bedroom,New York City Apartment,Manhattan Apartment,Art Moderne,Architectural Digest,Painting Inspiration</td><td>Fashion Designer Isaac Mizrahi’s Updated 1930s New York City Apartment</td><td>610b3f83-9fe0-469d-946c-d16b577fca71</td></tr><tr><td>diy-and-crafts</td><td>HELPFUL RESOURCES – Check out my resin colorants resources page here with links to all the products mentioned in this article (and more). Let me know if you have any that you lo… </td><td>1</td><td>6k</td><td>https://i.pinimg.com/originals/d4/12/78/d4127833023ca32600571ddca16f1556.jpg</td><td>3454</td><td>image</td><td>Mixed Media Crafts</td><td>Local save in /data/diy-and-crafts</td><td>Epoxy Resin Art,Diy Resin Art,Diy Resin Crafts,Resin Molds,Ice Resin,Resin Pour,Diy Epoxy,Diy Resin Painting,Diy Resin Dice</td><td>What can you use to color resin?</td><td>46bd3f86-b09d-4e29-9033-7ff2df595e51</td></tr><tr><td>finance</td><td>Description Coupon Organizer in a fun colorful fabric -island oasis, Great Size for the \"basic\" couponer - holds up to 500 coupons with ease, and is made long enough so that you… </td><td>1</td><td>0</td><td>https://i.pinimg.com/originals/65/bb/ea/65bbeaf458907bb079317d8303c4fa0e.jpg</td><td>5730</td><td>image</td><td>Consuelo Aguirre</td><td>Local save in /data/finance</td><td>Grocery Items,Grocery Coupons,Care Organization,Coupon Organization,Extreme Couponing,Couponing 101,Life Binder,Save My Money,Love Coupons</td><td>Island Oasis Coupon Organizer</td><td>1e1f0c8b-9fcf-460b-9154-c775827206eb</td></tr><tr><td>finance</td><td>Description Coupon Organizer in a fun colorful fabric -island oasis, Great Size for the \"basic\" couponer - holds up to 500 coupons with ease, and is made long enough so that you… </td><td>1</td><td>0</td><td>https://i.pinimg.com/originals/65/bb/ea/65bbeaf458907bb079317d8303c4fa0e.jpg</td><td>5730</td><td>image</td><td>Consuelo Aguirre</td><td>Local save in /data/finance</td><td>Grocery Items,Grocery Coupons,Care Organization,Coupon Organization,Extreme Couponing,Couponing 101,Life Binder,Save My Money,Love Coupons</td><td>Island Oasis Coupon Organizer</td><td>1e1f0c8b-9fcf-460b-9154-c775827206eb</td></tr><tr><td>christmas</td><td>20 Christmas Decorating Ideas We Bet You Haven't Thought Of via @PureWow</td><td>1</td><td>868k</td><td>https://i.pinimg.com/originals/e9/b9/f0/e9b9f01cc3b2cf41948b45854335396c.jpg</td><td>2074</td><td>image</td><td>PureWow</td><td>Local save in /data/christmas</td><td>Holiday Centerpieces,Xmas Decorations,Centerpiece Ideas,Table Centerpieces,Valentine Decorations,Wedding Centerpieces,Outdoor Decorations,Christmas Centerpieces With Candles,Christmas Dining Table Decorations</td><td>35 Christmas Decorating Ideas We Bet You Haven't Thought Of</td><td>86ed09a7-842d-496d-9501-010c654eb340</td></tr><tr><td>art</td><td>Free quick inspirational video on creating a mixed media face with acrylic, collage, stenciling and simple techniques. Come on over to watch</td><td>1</td><td>27k</td><td>https://i.pinimg.com/videos/thumbnails/originals/05/86/a4/0586a4116e1fc34efc25e064ccd123e8.0000001.jpg</td><td>831</td><td>video</td><td>Shawn Petite</td><td>Local save in /data/art</td><td>Collage Kunst,Paper Collage Art,Collage Art Mixed Media,Mixed Media Painting,Mixed Media Canvas,Canvas Collage,Art Collages,Wall Canvas,Canvas Art</td><td>creating mixed-media faces tutorial</td><td>5e65914d-9f58-4ff1-9676-658e426e8ce5</td></tr><tr><td>diy-and-crafts</td><td>Keep the kids busy this summer with these easy diy crafts and projects. Creative and…</td><td>1</td><td>124k</td><td>https://i.pinimg.com/originals/b3/bc/e2/b3bce2964e8c8975387b39660eed5f16.jpg</td><td>2863</td><td>image</td><td>Of Life & Lisa | Lifestyle Blog</td><td>Local save in /data/diy-and-crafts</td><td>Summer Crafts For Kids,Fun Crafts For Kids,Summer Kids,Toddler Crafts,Crafts To Do,Diy For Kids,Summer Snow,Diys For Summer,Craft Ideas For Girls</td><td>25 Super Fun Summer Crafts for Kids - Of Life and Lisa</td><td>9bf39437-42a6-4f02-99a0-9a0383d8cd70</td></tr><tr><td>diy-and-crafts</td><td>Keep the kids busy this summer with these easy diy crafts and projects. Creative and…</td><td>1</td><td>124k</td><td>https://i.pinimg.com/originals/b3/bc/e2/b3bce2964e8c8975387b39660eed5f16.jpg</td><td>2863</td><td>image</td><td>Of Life & Lisa | Lifestyle Blog</td><td>Local save in /data/diy-and-crafts</td><td>Summer Crafts For Kids,Fun Crafts For Kids,Summer Kids,Toddler Crafts,Crafts To Do,Diy For Kids,Summer Snow,Diys For Summer,Craft Ideas For Girls</td><td>25 Super Fun Summer Crafts for Kids - Of Life and Lisa</td><td>9bf39437-42a6-4f02-99a0-9a0383d8cd70</td></tr><tr><td>tattoos</td><td>We welcome you to our latest collection of Beautiful Tattoo Ideas For Women. Check out and get inspired by the most beautiful design for yourself.</td><td>1</td><td>21k</td><td>https://i.pinimg.com/originals/fa/cf/7c/facf7cd752a4bc7c09faaa8925ab80b1.jpg</td><td>8653</td><td>image</td><td>ALL FOR WOMAN</td><td>Local save in /data/tattoos</td><td>Small Back Tattoos,Small Girl Tattoos,Little Tattoos,Tattoo Girls,Mini Tattoos,Tattoo Small,Back Tattoo Women,Tattoo On Back,Girl Back Tattoos</td><td>Unique Women Tattoos Ideas 2020</td><td>24b1343c-4d86-4705-8ec9-7f1f2df2d77e</td></tr><tr><td>diy-and-crafts</td><td>A fun space activity for kids. Preshoolers and kindergartners will love making their own alien spacecraft!</td><td>1</td><td>192k</td><td>https://i.pinimg.com/originals/6f/e8/aa/6fe8aa405513c6d2f77b5f47d17cdce8.jpg</td><td>2923</td><td>image</td><td>The Crafting Chicks</td><td>Local save in /data/diy-and-crafts</td><td>Paper Plate Crafts For Kids,Fun Crafts For Kids,Summer Crafts,Toddler Crafts,Art For Kids,Outer Space Crafts For Kids,Kid Crafts,Space Kids,Back To School Crafts For Kids</td><td>UFO Paper Plate Craft</td><td>52fa3af5-24a4-4ccb-8f17-9c3eb12327ee</td></tr><tr><td>travel</td><td>The best trips to take when you are young!</td><td>1</td><td>89k</td><td>https://i.pinimg.com/videos/thumbnails/originals/81/97/c1/8197c1beef8bcb19bea5d8b422211f34.0000001.jpg</td><td>9546</td><td>video</td><td>The World Pursuit Travel Website</td><td>Local save in /data/travel</td><td>Fun Places To Go,Beautiful Places To Travel,Best Places To Travel,Travel Jobs,Holiday Places,Future Travel,Travel Around The World,Adventure Travel,Travel Photos</td><td>20 Amazing Trips to Take in Your Twenties!</td><td>efd5b2d6-2f69-40cd-bb59-41f18c089e52</td></tr><tr><td>tattoos</td><td>Koi fish tattoos are a popular choice for men who want to make a statement, thanks to their rich symbolism and bold design.</td><td>1</td><td>211k</td><td>https://i.pinimg.com/originals/8a/0c/0a/8a0c0a7b6236565c519acd41ad1a52c0.jpg</td><td>8731</td><td>image</td><td>TheTrendSpotter</td><td>Local save in /data/tattoos</td><td>Dr Tattoo,Wörter Tattoos,Pisces Tattoos,Tatoo Art,Dream Tattoos,Dope Tattoos,Mini Tattoos,Finger Tattoos,Body Art Tattoos</td><td>20 Koi Fish Tattoos For Lucky Men</td><td>ea760f71-febf-4023-b592-d17396659039</td></tr><tr><td>tattoos</td><td>Koi fish tattoos are a popular choice for men who want to make a statement, thanks to their rich symbolism and bold design.</td><td>1</td><td>211k</td><td>https://i.pinimg.com/originals/8a/0c/0a/8a0c0a7b6236565c519acd41ad1a52c0.jpg</td><td>8731</td><td>image</td><td>TheTrendSpotter</td><td>Local save in /data/tattoos</td><td>Dr Tattoo,Wörter Tattoos,Pisces Tattoos,Tatoo Art,Dream Tattoos,Dope Tattoos,Mini Tattoos,Finger Tattoos,Body Art Tattoos</td><td>20 Koi Fish Tattoos For Lucky Men</td><td>ea760f71-febf-4023-b592-d17396659039</td></tr><tr><td>quotes</td><td>#lovequotes #matchmaker #matchmadeinheaven #loveyourself #respectyourself</td><td>1</td><td>51k</td><td>https://i.pinimg.com/originals/c6/64/ee/c664ee71524fb5a6e7b7b49233f93b43.png</td><td>8304</td><td>image</td><td>Commitment Connection</td><td>Local save in /data/quotes</td><td>Wise Quotes,Quotable Quotes,Words Quotes,Wise Words,Quotes To Live By,Great Quotes,Motivational Quotes,Inspirational Quotes,Funny Quotes</td><td>The #1 Reason You’re Not His Priority Anymore - Matthew Coast</td><td>5b6d0913-25e4-43ab-839d-85d5516f78a4</td></tr><tr><td>quotes</td><td>#lovequotes #matchmaker #matchmadeinheaven #loveyourself #respectyourself</td><td>1</td><td>51k</td><td>https://i.pinimg.com/originals/c6/64/ee/c664ee71524fb5a6e7b7b49233f93b43.png</td><td>8304</td><td>image</td><td>Commitment Connection</td><td>Local save in /data/quotes</td><td>Wise Quotes,Quotable Quotes,Words Quotes,Wise Words,Quotes To Live By,Great Quotes,Motivational Quotes,Inspirational Quotes,Funny Quotes</td><td>The #1 Reason You’re Not His Priority Anymore - Matthew Coast</td><td>5b6d0913-25e4-43ab-839d-85d5516f78a4</td></tr><tr><td>mens-fashion</td><td>imgentleboss: “ - More about men’s fashion at @Gentleboss - GB’s Facebook - ”</td><td>1</td><td>940</td><td>https://i.pinimg.com/originals/e7/6e/8e/e76e8ed6cc838b84a934c6948a5caff7.jpg</td><td>7554</td><td>image</td><td>iElylike ..✿◕‿◕✿ஐ✿◕‿◕✿</td><td>Local save in /data/mens-fashion</td><td>Mens Fashion Blog,Look Fashion,Autumn Fashion,Fashion News,Fashion Sale,80s Fashion,Paris Fashion,Runway Fashion,Fashion Trends</td><td>Craig Style</td><td>c6fa12f4-0d4a-4b07-a335-5bf9f37f8281</td></tr><tr><td>tattoos</td><td>Tattoos are one of the most efficient ways through which one decides to express themselves…</td><td>1</td><td>4k</td><td>https://i.pinimg.com/originals/ab/8e/50/ab8e505b04d4abc8f23e273c15f8a65d.jpg</td><td>8887</td><td>image</td><td>RapidLeaks</td><td>Local save in /data/tattoos</td><td>Dream Tattoos,Body Art Tattoos,New Tattoos,Small Tattoos,Cross Tattoos,Random Tattoos,Fashion Tattoos,Bird Tattoos,Fitness Tattoos</td><td>25 Ultra Sexy Back Tattoo Ideas For Girls</td><td>5df9f6e5-07f5-4ce8-a82e-96586bbc05d8</td></tr><tr><td>beauty</td><td>Instantly create the look of lash extensions with this award-winning, best-selling mascara that won't clump, flake or smudge. Available in 3 shades!</td><td>1</td><td>43k</td><td>https://i.pinimg.com/videos/thumbnails/originals/69/84/e2/6984e20f3e262098fa9c0614c3453254.0000001.jpg</td><td>1313</td><td>video</td><td>Thrive Causemetics</td><td>Local save in /data/beauty</td><td>N,o, ,T,a,g,s, ,A,v,a,i,l,a,b,l,e</td><td>Liquid Lash Extensions Mascara</td><td>44662045-e891-4821-8a19-ebe7eedd371a</td></tr><tr><td>beauty</td><td>Instantly create the look of lash extensions with this award-winning, best-selling mascara that won't clump, flake or smudge. Available in 3 shades!</td><td>1</td><td>43k</td><td>https://i.pinimg.com/videos/thumbnails/originals/69/84/e2/6984e20f3e262098fa9c0614c3453254.0000001.jpg</td><td>1313</td><td>video</td><td>Thrive Causemetics</td><td>Local save in /data/beauty</td><td>N,o, ,T,a,g,s, ,A,v,a,i,l,a,b,l,e</td><td>Liquid Lash Extensions Mascara</td><td>44662045-e891-4821-8a19-ebe7eedd371a</td></tr><tr><td>vehicles</td><td>1937 Jaguar SS100 - 2 1/2 Litre Roadster, one of the most sought after pre-war sports cars</td><td>1</td><td>8k</td><td>https://i.pinimg.com/originals/26/81/a7/2681a71bd0c8f7fd0ab79c455338a49a.jpg</td><td>10625</td><td>image</td><td>hobbyDB</td><td>Local save in /data/vehicles</td><td>Jaguar Type E,Jaguar Xk,Jaguar Cars,Jaguar Roadster,Jaguar Sport,Retro Cars,Vintage Cars,Antique Cars,British Sports Cars</td><td>Jaguar Type E</td><td>d31885b7-742a-4e2a-bbb7-ac5f9d334340</td></tr><tr><td>travel</td><td>Best spots to see for travel through Ireland!</td><td>1</td><td>130k</td><td>https://i.pinimg.com/originals/c7/50/d3/c750d36524856873d64406652d69b4fb.png</td><td>9590</td><td>image</td><td>Fun Life Crisis</td><td>Local save in /data/travel</td><td>Vacation Ideas,Vacation Spots,Emerald Isle,London England,Travel Guides,Travel Tips,Travel Hacks,Travel Packing,Places To Travel</td><td>Top 20 Things To See And Do In Ireland</td><td>b849e976-52f6-45d7-8b25-51559318f167</td></tr><tr><td>beauty</td><td>Untitled</td><td>1</td><td>0</td><td>https://i.pinimg.com/originals/af/c4/59/afc459bd6e1fd8f9aef212504afebf3a.jpg</td><td>1014</td><td>image</td><td>Grecia Perales</td><td>Local save in /data/beauty</td><td>Hair Inspo,Hair Inspiration,Motivation Inspiration,Cl Rapper,Foto Glamour,Kreative Portraits,Classy Aesthetic,Pretty Hairstyles,Hair Looks</td><td>Hairstyles & Beauty</td><td>9ac94307-bb27-410e-b554-0a0ab6c19847</td></tr><tr><td>vehicles</td><td>Nissan GT-R. Sick.</td><td>1</td><td>437</td><td>https://i.pinimg.com/originals/0d/29/9f/0d299f3df020395aa7ce8387f40fbeed.jpg</td><td>10794</td><td>image</td><td>Ray Uyemura</td><td>Local save in /data/vehicles</td><td>Lowrider,Old Vintage Cars,Antique Cars,Austin Martin,Nissan Gtr Black,Jaguar,1959 Cadillac,Cadillac Ct6,Old School Cars</td><td>TireBuyer</td><td>c4bd2577-a7bb-4409-bb7a-17d5ed7e1cf1</td></tr><tr><td>vehicles</td><td>Nissan GT-R. Sick.</td><td>1</td><td>437</td><td>https://i.pinimg.com/originals/0d/29/9f/0d299f3df020395aa7ce8387f40fbeed.jpg</td><td>10794</td><td>image</td><td>Ray Uyemura</td><td>Local save in /data/vehicles</td><td>Lowrider,Old Vintage Cars,Antique Cars,Austin Martin,Nissan Gtr Black,Jaguar,1959 Cadillac,Cadillac Ct6,Old School Cars</td><td>TireBuyer</td><td>c4bd2577-a7bb-4409-bb7a-17d5ed7e1cf1</td></tr><tr><td>diy-and-crafts</td><td>No description available Story format</td><td>0</td><td>User Info Error</td><td>Image src error.</td><td>3089</td><td>multi-video(story page format)</td><td>User Info Error</td><td>Local save in /data/diy-and-crafts</td><td>N,o, ,T,a,g,s, ,A,v,a,i,l,a,b,l,e</td><td>No Title Data Available</td><td>88f9227e-88d0-4b1c-b0be-bcfc3028b8e2</td></tr><tr><td>mens-fashion</td><td>No description available Story format</td><td>0</td><td>User Info Error</td><td>Image src error.</td><td>7528</td><td>multi-video(story page format)</td><td>User Info Error</td><td>Local save in /data/mens-fashion</td><td>N,o, ,T,a,g,s, ,A,v,a,i,l,a,b,l,e</td><td>No Title Data Available</td><td>fbe53c66-3442-4773-b19e-d3ec6f54dddf</td></tr><tr><td>mens-fashion</td><td>No description available Story format</td><td>0</td><td>User Info Error</td><td>Image src error.</td><td>7528</td><td>multi-video(story page format)</td><td>User Info Error</td><td>Local save in /data/mens-fashion</td><td>N,o, ,T,a,g,s, ,A,v,a,i,l,a,b,l,e</td><td>No Title Data Available</td><td>fbe53c66-3442-4773-b19e-d3ec6f54dddf</td></tr><tr><td>mens-fashion</td><td>No description available Story format</td><td>0</td><td>User Info Error</td><td>Image src error.</td><td>7528</td><td>multi-video(story page format)</td><td>User Info Error</td><td>Local save in /data/mens-fashion</td><td>N,o, ,T,a,g,s, ,A,v,a,i,l,a,b,l,e</td><td>No Title Data Available</td><td>fbe53c66-3442-4773-b19e-d3ec6f54dddf</td></tr></tbody></table></div>"
      ]
     },
     "metadata": {
      "application/vnd.databricks.v1+output": {
       "addedWidgets": {},
       "aggData": [],
       "aggError": "",
       "aggOverflow": false,
       "aggSchema": [],
       "aggSeriesLimitReached": false,
       "aggType": "",
       "arguments": {},
       "columnCustomDisplayInfos": {},
       "data": [
        [
         "travel",
         "This Costa Rica itinerary is the ultimate guide to spending two weeks in Costa Rica. Find out about visiting La Fortuna, Arenal, Monteverde, Naranjo, Corcovado National Park, Or… ",
         1,
         "10k",
         "https://i.pinimg.com/originals/30/93/cb/3093cb01d9de2d125fda8ba5e3e41946.jpg",
         10138,
         "image",
         "Wanderlust Chloe ✈️ Travel guides, inspo and adventure travel ✈️",
         "Local save in /data/travel",
         "Costa Rica Travel,Rio Celeste Costa Rica,Dream Vacations,Vacation Spots,Vacation Travel,Travel Pictures,Travel Photos,Fortuna Costa Rica,Costa Rica Pictures",
         "14 Amazing Things To Do In Costa Rica | Volcanoes, Waterfalls, Wildlife And More",
         "927c4658-cc3f-4b92-9b5c-70743d0c238d"
        ],
        [
         "diy-and-crafts",
         "This post may contain affiliate links, read our Disclosure Policy for more information. As an Amazon Associate I earn from qualifying purchases, thank you! Make some cute handpr… ",
         1,
         "892k",
         "https://i.pinimg.com/originals/ff/fe/38/fffe384f3ec18a0d87cb2d80cc8c1499.jpg",
         3156,
         "image",
         "Michelle {CraftyMorning.com}",
         "Local save in /data/diy-and-crafts",
         "Christmas Gifts For Parents,Christmas Decorations For Kids,Christmas Crafts For Toddlers,Preschool Christmas,Christmas Crafts For Gifts,Christmas Activities,Toddler Crafts,Kids Christmas,Christmas Feeling",
         "Handprint Reindeer Ornaments - Crafty Morning",
         "fa6e31a4-18c2-4eca-a6d8-e903eee2c2a4"
        ],
        [
         "finance",
         "If you love budgeting, make sure to give Dave Ramsey's 7 Baby Steps a try. Follow these steps to begin your debt snowball, build an emergency fund, invest and reach riches. I ca… ",
         1,
         "26k",
         "https://i.pinimg.com/originals/1e/9d/90/1e9d906e4e150e3b95187f3b76ea7c71.png",
         5494,
         "image",
         "Living Low Key | Save Money, Make Money, & Frugal Living",
         "Local save in /data/finance",
         "Financial Peace,Financial Tips,Saving Money Quotes,Total Money Makeover,Budgeting Finances,Money Management,Wealth Management,Personal Finance,Making Ideas",
         "Dave Ramsey's 7 Baby Steps: What Are They And Will They Work For You",
         "8fb2af68-543b-4639-8119-de33d28706ed"
        ],
        [
         "finance",
         "If you love budgeting, make sure to give Dave Ramsey's 7 Baby Steps a try. Follow these steps to begin your debt snowball, build an emergency fund, invest and reach riches. I ca… ",
         1,
         "26k",
         "https://i.pinimg.com/originals/1e/9d/90/1e9d906e4e150e3b95187f3b76ea7c71.png",
         5494,
         "image",
         "Living Low Key | Save Money, Make Money, & Frugal Living",
         "Local save in /data/finance",
         "Financial Peace,Financial Tips,Saving Money Quotes,Total Money Makeover,Budgeting Finances,Money Management,Wealth Management,Personal Finance,Making Ideas",
         "Dave Ramsey's 7 Baby Steps: What Are They And Will They Work For You",
         "8fb2af68-543b-4639-8119-de33d28706ed"
        ],
        [
         "christmas",
         "Here are the best DIY Christmas Centerpieces ideas perfect for your Christmas & holiday season home decor. From Christmas Vignettes to Table Centerpieces.",
         1,
         "500k",
         "https://i.pinimg.com/originals/aa/6d/0f/aa6d0f44d7c1c96b998cb9aa6c4446b8.png",
         2418,
         "image",
         "HikenDip",
         "Local save in /data/christmas",
         "Farmhouse Christmas Decor,Rustic Christmas,Christmas Time,Vintage Christmas,Xmas,Primitive Christmas Crafts,Christmas Vignette,Indoor Christmas Decorations,Diy Christmas Ornaments",
         "100 DIY Christmas Centerpieces You'll Love To Decorate Your Home With For The Christmas Season - Hike n Dip",
         "da8745a6-5160-46c4-877d-181d50a729fd"
        ],
        [
         "quotes",
         "summcoco gives you inspiration for the women fashion trends you want. Thinking about a new look or lifestyle? This is your ultimate resource to get the hottest trends. 45 Top Li… ",
         1,
         "306k",
         "https://i.pinimg.com/originals/bb/c0/e6/bbc0e6a797079505f11ac12bcb0b8c66.jpg",
         7922,
         "image",
         "Sumcoco | Decor Ideas, Hairstyles, Nails Fashion Advice",
         "Local save in /data/quotes",
         "Life Quotes Love,Inspirational Quotes About Love,Mood Quotes,Motivational Quotes,Tears Quotes,Quotes About Sadness,Deep Quotes About Life,Quotes Quotes,Quote Life",
         "45 Top Life Quotes School Did Not Teach You",
         "a584581c-1b38-4731-a1cc-f36115ecf229"
        ],
        [
         "event-planning",
         "Personalize your event or shop with a customized neon sign. Make a statement with your own custom vibes! This light is 32 -40 inches (80cm-100cm) if you need something bigger, p… ",
         1,
         "111",
         "https://i.pinimg.com/originals/e9/c0/7c/e9c07cf0cf16cab23764a36718ab76c1.jpg",
         4508,
         "image",
         "Life of Neon | Custom Neon Light Signs | Home Decor Wall Art",
         "Local save in /data/event-planning",
         "Our Wedding,Wedding Venues,Dream Wedding,Wedding Cakes,Church Wedding,Wedding Flowers,Lace Wedding,Wedding Rings,Wedding Dresses",
         "Custom Event and Shop Neon Sign Lights - Event & Shop",
         "9064f4a2-2753-476c-815e-db360f45a93e"
        ],
        [
         "travel",
         "Are you traveling to Paris during the summer? Find out what to do in Paris, France during the summer. Fun summertime activities in Paris. Enjoy the incredible outdoors when trav… ",
         1,
         "3k",
         "https://i.pinimg.com/originals/6c/4c/90/6c4c90bba27ebf8c8bfe4c1acfb9f07a.jpg",
         9979,
         "image",
         "Petite in Paris",
         "Local save in /data/travel",
         "Torre Eiffel Paris,Tour Eiffel,Picnic In Paris,Hello France,Voyage Europe,Destination Voyage,Beautiful Places To Travel,Travel Aesthetic,Paris Travel",
         "Paris in the Summer. 10 fun things to do in Paris in the Summertime • Petite in Paris",
         "2b2abc85-fc51-481f-8ae6-17681993da28"
        ],
        [
         "diy-and-crafts",
         "DIY Dollar Store Valentine’s Day Heart Wreath Decoration. There are so many great Valentine crafts at the Dollar Tree right now! During our last trip, we picked up a few supplie… ",
         1,
         "9k",
         "https://i.pinimg.com/originals/dc/f6/8a/dcf68adcc63c339c24fa5664f1115994.png",
         2698,
         "image",
         "South Lumina Style",
         "Local save in /data/diy-and-crafts",
         "Valentine Day Wreaths,Valentines Day Hearts,Valentines Day Decorations,Valentine Day Crafts,Holiday Crafts,Diy Christmas,Christmas Wreaths,Valentine Tree,Printable Valentine",
         "DIY Dollar Tree Valentine's Day Wreath",
         "73f16302-4871-486a-8836-947530526337"
        ],
        [
         "home-decor",
         "Holiday mantle decor, Christmas decor, metallic mercury glass style Christmas trees, eucalyptus vine, evergreen pine branches, white neutral holiday decor, cozy mantle for the h… ",
         1,
         "83k",
         "https://i.pinimg.com/originals/9d/82/1a/9d821a80acd8f90c16454e978bd9b115.jpg",
         6145,
         "image",
         "Stylin by Aylin",
         "Local save in /data/home-decor",
         "Winter Home Decor,Christmas Living Room Decor,Living Room Decor Cozy,Christmas Decor,Cozy Fireplace,Rustic Fireplace Decor,Fireplace Decorations,Rustic Room,House Decorations",
         "HOLIDAY MANTLE DECOR - @AMAZON & @TARGET FINDS",
         "82e13a07-db99-43a3-b1c0-89a4b75821da"
        ],
        [
         "education",
         "Podcasts for Teachers or Parents of Teenagers: Teaching teens middle school and high school can feel joyful and rewarding most days, but can also frustrate you with one challeng… ",
         1,
         "25k",
         "https://i.pinimg.com/originals/50/19/31/501931a27ee4d076658980851b995b2c.jpg",
         4315,
         "image",
         "Math Giraffe",
         "Local save in /data/education",
         "Middle School Classroom,High School Students,High School Teachers,Middle School Tips,High School Counseling,Ela Classroom,High School Science,Future Classroom,Google Classroom",
         "Podcasts for Teachers or Parents of Teenagers",
         "21b59ba9-829d-4c33-8c27-4cd4c56d26b8"
        ],
        [
         "education",
         "Podcasts for Teachers or Parents of Teenagers: Teaching teens middle school and high school can feel joyful and rewarding most days, but can also frustrate you with one challeng… ",
         1,
         "25k",
         "https://i.pinimg.com/originals/50/19/31/501931a27ee4d076658980851b995b2c.jpg",
         4315,
         "image",
         "Math Giraffe",
         "Local save in /data/education",
         "Middle School Classroom,High School Students,High School Teachers,Middle School Tips,High School Counseling,Ela Classroom,High School Science,Future Classroom,Google Classroom",
         "Podcasts for Teachers or Parents of Teenagers",
         "21b59ba9-829d-4c33-8c27-4cd4c56d26b8"
        ],
        [
         "event-planning",
         "Sacramento California Wedding 2 Chic Events & Design Jodi Yorston Photography Wilson Vineyards Barn Miosa Couture Yellow Barn Vineyard Outdoor Candles DIY",
         1,
         "6M",
         "https://i.pinimg.com/originals/7e/45/90/7e45905fefa36347e83333fd6d091140.jpg",
         5069,
         "image",
         "Style Me Pretty",
         "Local save in /data/event-planning",
         "60th Anniversary Parties,Anniversary Decorations,Golden Anniversary,25th Wedding Anniversary,Anniversary Pictures,Anniversary Ideas,Birthday Decorations,Event Planning Design,Event Design",
         "The Vault: Curated & Refined Wedding Inspiration",
         "b75b6f87-deb3-444f-b29e-ce9161b2df49"
        ],
        [
         "mens-fashion",
         "Black And Brown Outfits You Need To Try This Fall Season. The trick with black and brown outfits is to know how to combine colors, fabrics, and shapes to get a cohesive look. So… ",
         1,
         "1M",
         "https://i.pinimg.com/originals/3e/49/09/3e4909c0ccc4dbba3cad83d97eab4a61.png",
         7343,
         "image",
         "Cultura Colectiva",
         "Local save in /data/mens-fashion",
         "Winter Outfits Men,Stylish Mens Outfits,Casual Outfits,Men Casual,Smart Casual,Outfits For Men,Fall Outfits,Mens Winter Boots,Business Casual Men",
         "This Fashion Rule Is Nonsense, And We Should All Forget About It",
         "b8c63a95-6fe8-4d7f-9455-1eef3462fee0"
        ],
        [
         "home-decor",
         "Beautiful and easy ways to update every room in your home with fall decor. Plus, my favorite finds in fall decor for 2020!",
         1,
         "92k",
         "https://i.pinimg.com/originals/e5/ae/dc/e5aedc14ce557e3a69f672e0f8c88f6e.png",
         6063,
         "image",
         "Kristen | Lifestyle, Mom Tips & Teacher Stuff Blog",
         "Local save in /data/home-decor",
         "Fall Home Decor,Autumn Home,Fall Decor Outdoor,Front Porch Fall Decor,Home Decor Ideas,Porch Ideas For Fall,Fall Outdoor Decorating,Decorating Ideas For Fall,Fall Front Doors",
         "41 Gorgeous Fall Decor Ideas For Your Home - Chaylor & Mads",
         "60693727-4927-4bd6-a8c5-096a392d63e6"
        ],
        [
         "education",
         "15 Essential Classroom Items For First Year Teachers / First Year Teacher Must Haves",
         1,
         "5k",
         "https://i.pinimg.com/originals/4b/b9/a8/4bb9a85f609a8384ed9c9ab14e7bcea0.jpg",
         4137,
         "image",
         "Write Your Story | Budgeting, Healthy Lifestyle, Faith",
         "Local save in /data/education",
         "1st Year Teachers,First Year Teaching,First Grade Teachers,Elementary Teacher,Montessori Elementary,Teaching Reading,History Teachers,High School Classroom,First Grade Classroom",
         "15 Essential Classroom Items For First Year Teachers / First Year Teacher Must Haves",
         "bf275054-4464-448b-9143-1bf101aa366d"
        ],
        [
         "christmas",
         "Transform mini terra cotta pots into the sweetest gingerbread house ornaments! Kids will love making this adorable Christmas craft to hang on the tree.",
         1,
         "20k",
         "https://i.pinimg.com/originals/13/28/09/1328097d7c290d1bf8642b01a6ba1c6c.jpg",
         2411,
         "image",
         "Projects with Kids",
         "Local save in /data/christmas",
         "Noel Christmas,Diy Christmas Ornaments,Homemade Christmas,Simple Christmas,Gingerbread Ornaments,Christmas Gingerbread,Gingerbread Houses,Preschool Christmas,Ornaments Ideas",
         "The Sweetest Gingerbread House Ornaments Kids Can Make",
         "4e11801e-7a64-4f1e-90dd-e900677595c5"
        ],
        [
         "mens-fashion",
         "Women's T-shirt. Design inspired by the rock band The Killers' hit \"Mr. Brightside\". One of the greatest song from the album Hot Fuss released in 2004. Soft and light, 100% cott… ",
         1,
         "27",
         "https://i.pinimg.com/originals/8c/42/39/8c42391d35fcad51a4a79f7cd81bf26d.jpg",
         7166,
         "image",
         "Mala Rock | Rock T-shirts",
         "Local save in /data/mens-fashion",
         "Mr Brightside,Rock T Shirts,Greatest Songs,Timeless Classic,Rock Bands,Album,T Shirts For Women,Inspired,Hot",
         "The Killers - Mr. Brightside - Women's T-Shirt - Heather Dark Grey / S",
         "4a844b03-e161-47a1-904b-591eb5dc4fb1"
        ],
        [
         "travel",
         "On our Calgary to Vancouver road trip we got to spend time in Banff, Canada. We visited the stunning Lake Moraine as well as Lake Louise and plenty of other of Canada's natural… ",
         1,
         "7k",
         "https://i.pinimg.com/videos/thumbnails/originals/57/9d/52/579d52242ae5609978c754d393e44e81.0000001.jpg",
         9672,
         "video",
         "Travel Mad Mum",
         "Local save in /data/travel",
         "Beautiful Places To Travel,Cool Places To Visit,Beautiful Roads,Beautiful Scenery,Wonderful Places,Lac Moraine,Moraine Lake,Lac Louise,Natur Wallpaper",
         "Lake Moraine, Banff, Canada",
         "1a5050a4-ac82-472c-aeff-3457de8bbee9"
        ],
        [
         "event-planning",
         "Do you love planning parties? Do you want to work-at-home? This post covers everything you need to know about becoming a home-based event planner!",
         1,
         "110k",
         "https://i.pinimg.com/originals/4d/a3/a4/4da3a4730418239f1b43ce81fb032c15.jpg",
         4913,
         "image",
         "The Work at Home Woman",
         "Local save in /data/event-planning",
         "Event Planning Tips,Event Planning Business,Party Planning,Business Ideas,Craft Business,Business Chic,Business Inspiration,Business Goals,Business Opportunities",
         "How to Work From Home as an Event Planner",
         "4d2d79c6-9ca8-46c9-a38e-931c5d967804"
        ],
        [
         "diy-and-crafts",
         "One thing I love about Crafts is how the evolve! These toilet paper rolls are adorable and modern. I love that something as simple as a recycled toilet paper roll can be taken t… ",
         1,
         "502k",
         "https://i.pinimg.com/originals/c6/cd/0d/c6cd0d04da9cfc11566cfd34eeb1f918.jpg",
         2959,
         "image",
         "CraftGossip.com",
         "Local save in /data/diy-and-crafts",
         "Toilet Paper Roll Crafts,Cardboard Crafts,Diy Paper,Paper Crafting,Toilet Paper Rolls,Cardboard Playhouse,Paper Art,Kids Crafts,Toddler Crafts",
         "The Cutest Toilet Paper Crafts",
         "439cac4b-18e8-4aaa-88c5-edb26a701111"
        ],
        [
         "travel",
         "35 European bucket list destinations for any traveler heading to Europe. From Cinque Terre, Italy to Iceland - there are so many amazing sites to see in Europe.",
         1,
         "28k",
         "https://i.pinimg.com/originals/71/04/1a/71041ad83ede43d9665741e719c58a86.jpg",
         9875,
         "image",
         "Nicki ",
         "Local save in /data/travel",
         "Backpacking Europe,Europe Travel Guide,Travel Guides,Travel Packing,Traveling Europe,Travelling,Travel Backpack,Budget Travel,2 Week Europe Itinerary",
         "European Bucket List: 35 Things NOT To Miss When Traveling Europe",
         "782dcbad-ff91-40a6-ba60-216efe29adb7"
        ],
        [
         "art",
         "Fashion designer Issac Mizrahi’s Greenwich Village home is an amalgamation of three apartments that was 20 years in the making",
         1,
         "3M",
         "https://i.pinimg.com/originals/f4/6c/54/f46c546a2e480022a42d842b7dca157e.jpg",
         428,
         "image",
         "Architectural Digest",
         "Local save in /data/art",
         "Modern Art,Contemporary Art,Contemporary Kitchens,Contemporary Bedroom,New York City Apartment,Manhattan Apartment,Art Moderne,Architectural Digest,Painting Inspiration",
         "Fashion Designer Isaac Mizrahi’s Updated 1930s New York City Apartment",
         "610b3f83-9fe0-469d-946c-d16b577fca71"
        ],
        [
         "diy-and-crafts",
         "HELPFUL RESOURCES – Check out my resin colorants resources page here with links to all the products mentioned in this article (and more). Let me know if you have any that you lo… ",
         1,
         "6k",
         "https://i.pinimg.com/originals/d4/12/78/d4127833023ca32600571ddca16f1556.jpg",
         3454,
         "image",
         "Mixed Media Crafts",
         "Local save in /data/diy-and-crafts",
         "Epoxy Resin Art,Diy Resin Art,Diy Resin Crafts,Resin Molds,Ice Resin,Resin Pour,Diy Epoxy,Diy Resin Painting,Diy Resin Dice",
         "What can you use to color resin?",
         "46bd3f86-b09d-4e29-9033-7ff2df595e51"
        ],
        [
         "finance",
         "Description Coupon Organizer in a fun colorful fabric -island oasis, Great Size for the \"basic\" couponer - holds up to 500 coupons with ease, and is made long enough so that you… ",
         1,
         "0",
         "https://i.pinimg.com/originals/65/bb/ea/65bbeaf458907bb079317d8303c4fa0e.jpg",
         5730,
         "image",
         "Consuelo Aguirre",
         "Local save in /data/finance",
         "Grocery Items,Grocery Coupons,Care Organization,Coupon Organization,Extreme Couponing,Couponing 101,Life Binder,Save My Money,Love Coupons",
         "Island Oasis Coupon Organizer",
         "1e1f0c8b-9fcf-460b-9154-c775827206eb"
        ],
        [
         "finance",
         "Description Coupon Organizer in a fun colorful fabric -island oasis, Great Size for the \"basic\" couponer - holds up to 500 coupons with ease, and is made long enough so that you… ",
         1,
         "0",
         "https://i.pinimg.com/originals/65/bb/ea/65bbeaf458907bb079317d8303c4fa0e.jpg",
         5730,
         "image",
         "Consuelo Aguirre",
         "Local save in /data/finance",
         "Grocery Items,Grocery Coupons,Care Organization,Coupon Organization,Extreme Couponing,Couponing 101,Life Binder,Save My Money,Love Coupons",
         "Island Oasis Coupon Organizer",
         "1e1f0c8b-9fcf-460b-9154-c775827206eb"
        ],
        [
         "christmas",
         "20 Christmas Decorating Ideas We Bet You Haven't Thought Of via @PureWow",
         1,
         "868k",
         "https://i.pinimg.com/originals/e9/b9/f0/e9b9f01cc3b2cf41948b45854335396c.jpg",
         2074,
         "image",
         "PureWow",
         "Local save in /data/christmas",
         "Holiday Centerpieces,Xmas Decorations,Centerpiece Ideas,Table Centerpieces,Valentine Decorations,Wedding Centerpieces,Outdoor Decorations,Christmas Centerpieces With Candles,Christmas Dining Table Decorations",
         "35 Christmas Decorating Ideas We Bet You Haven't Thought Of",
         "86ed09a7-842d-496d-9501-010c654eb340"
        ],
        [
         "art",
         "Free quick inspirational video on creating a mixed media face with acrylic, collage, stenciling and simple techniques. Come on over to watch",
         1,
         "27k",
         "https://i.pinimg.com/videos/thumbnails/originals/05/86/a4/0586a4116e1fc34efc25e064ccd123e8.0000001.jpg",
         831,
         "video",
         "Shawn Petite",
         "Local save in /data/art",
         "Collage Kunst,Paper Collage Art,Collage Art Mixed Media,Mixed Media Painting,Mixed Media Canvas,Canvas Collage,Art Collages,Wall Canvas,Canvas Art",
         "creating mixed-media faces tutorial",
         "5e65914d-9f58-4ff1-9676-658e426e8ce5"
        ],
        [
         "diy-and-crafts",
         "Keep the kids busy this summer with these easy diy crafts and projects. Creative and…",
         1,
         "124k",
         "https://i.pinimg.com/originals/b3/bc/e2/b3bce2964e8c8975387b39660eed5f16.jpg",
         2863,
         "image",
         "Of Life & Lisa | Lifestyle Blog",
         "Local save in /data/diy-and-crafts",
         "Summer Crafts For Kids,Fun Crafts For Kids,Summer Kids,Toddler Crafts,Crafts To Do,Diy For Kids,Summer Snow,Diys For Summer,Craft Ideas For Girls",
         "25 Super Fun Summer Crafts for Kids - Of Life and Lisa",
         "9bf39437-42a6-4f02-99a0-9a0383d8cd70"
        ],
        [
         "diy-and-crafts",
         "Keep the kids busy this summer with these easy diy crafts and projects. Creative and…",
         1,
         "124k",
         "https://i.pinimg.com/originals/b3/bc/e2/b3bce2964e8c8975387b39660eed5f16.jpg",
         2863,
         "image",
         "Of Life & Lisa | Lifestyle Blog",
         "Local save in /data/diy-and-crafts",
         "Summer Crafts For Kids,Fun Crafts For Kids,Summer Kids,Toddler Crafts,Crafts To Do,Diy For Kids,Summer Snow,Diys For Summer,Craft Ideas For Girls",
         "25 Super Fun Summer Crafts for Kids - Of Life and Lisa",
         "9bf39437-42a6-4f02-99a0-9a0383d8cd70"
        ],
        [
         "tattoos",
         "We welcome you to our latest collection of Beautiful Tattoo Ideas For Women. Check out and get inspired by the most beautiful design for yourself.",
         1,
         "21k",
         "https://i.pinimg.com/originals/fa/cf/7c/facf7cd752a4bc7c09faaa8925ab80b1.jpg",
         8653,
         "image",
         "ALL FOR WOMAN",
         "Local save in /data/tattoos",
         "Small Back Tattoos,Small Girl Tattoos,Little Tattoos,Tattoo Girls,Mini Tattoos,Tattoo Small,Back Tattoo Women,Tattoo On Back,Girl Back Tattoos",
         "Unique Women Tattoos Ideas 2020",
         "24b1343c-4d86-4705-8ec9-7f1f2df2d77e"
        ],
        [
         "diy-and-crafts",
         "A fun space activity for kids. Preshoolers and kindergartners will love making their own alien spacecraft!",
         1,
         "192k",
         "https://i.pinimg.com/originals/6f/e8/aa/6fe8aa405513c6d2f77b5f47d17cdce8.jpg",
         2923,
         "image",
         "The Crafting Chicks",
         "Local save in /data/diy-and-crafts",
         "Paper Plate Crafts For Kids,Fun Crafts For Kids,Summer Crafts,Toddler Crafts,Art For Kids,Outer Space Crafts For Kids,Kid Crafts,Space Kids,Back To School Crafts For Kids",
         "UFO Paper Plate Craft",
         "52fa3af5-24a4-4ccb-8f17-9c3eb12327ee"
        ],
        [
         "travel",
         "The best trips to take when you are young!",
         1,
         "89k",
         "https://i.pinimg.com/videos/thumbnails/originals/81/97/c1/8197c1beef8bcb19bea5d8b422211f34.0000001.jpg",
         9546,
         "video",
         "The World Pursuit Travel Website",
         "Local save in /data/travel",
         "Fun Places To Go,Beautiful Places To Travel,Best Places To Travel,Travel Jobs,Holiday Places,Future Travel,Travel Around The World,Adventure Travel,Travel Photos",
         "20 Amazing Trips to Take in Your Twenties!",
         "efd5b2d6-2f69-40cd-bb59-41f18c089e52"
        ],
        [
         "tattoos",
         "Koi fish tattoos are a popular choice for men who want to make a statement, thanks to their rich symbolism and bold design.",
         1,
         "211k",
         "https://i.pinimg.com/originals/8a/0c/0a/8a0c0a7b6236565c519acd41ad1a52c0.jpg",
         8731,
         "image",
         "TheTrendSpotter",
         "Local save in /data/tattoos",
         "Dr Tattoo,Wörter Tattoos,Pisces Tattoos,Tatoo Art,Dream Tattoos,Dope Tattoos,Mini Tattoos,Finger Tattoos,Body Art Tattoos",
         "20 Koi Fish Tattoos For Lucky Men",
         "ea760f71-febf-4023-b592-d17396659039"
        ],
        [
         "tattoos",
         "Koi fish tattoos are a popular choice for men who want to make a statement, thanks to their rich symbolism and bold design.",
         1,
         "211k",
         "https://i.pinimg.com/originals/8a/0c/0a/8a0c0a7b6236565c519acd41ad1a52c0.jpg",
         8731,
         "image",
         "TheTrendSpotter",
         "Local save in /data/tattoos",
         "Dr Tattoo,Wörter Tattoos,Pisces Tattoos,Tatoo Art,Dream Tattoos,Dope Tattoos,Mini Tattoos,Finger Tattoos,Body Art Tattoos",
         "20 Koi Fish Tattoos For Lucky Men",
         "ea760f71-febf-4023-b592-d17396659039"
        ],
        [
         "quotes",
         "#lovequotes #matchmaker #matchmadeinheaven #loveyourself #respectyourself",
         1,
         "51k",
         "https://i.pinimg.com/originals/c6/64/ee/c664ee71524fb5a6e7b7b49233f93b43.png",
         8304,
         "image",
         "Commitment Connection",
         "Local save in /data/quotes",
         "Wise Quotes,Quotable Quotes,Words Quotes,Wise Words,Quotes To Live By,Great Quotes,Motivational Quotes,Inspirational Quotes,Funny Quotes",
         "The #1 Reason You’re Not His Priority Anymore - Matthew Coast",
         "5b6d0913-25e4-43ab-839d-85d5516f78a4"
        ],
        [
         "quotes",
         "#lovequotes #matchmaker #matchmadeinheaven #loveyourself #respectyourself",
         1,
         "51k",
         "https://i.pinimg.com/originals/c6/64/ee/c664ee71524fb5a6e7b7b49233f93b43.png",
         8304,
         "image",
         "Commitment Connection",
         "Local save in /data/quotes",
         "Wise Quotes,Quotable Quotes,Words Quotes,Wise Words,Quotes To Live By,Great Quotes,Motivational Quotes,Inspirational Quotes,Funny Quotes",
         "The #1 Reason You’re Not His Priority Anymore - Matthew Coast",
         "5b6d0913-25e4-43ab-839d-85d5516f78a4"
        ],
        [
         "mens-fashion",
         "imgentleboss: “ - More about men’s fashion at @Gentleboss - GB’s Facebook - ”",
         1,
         "940",
         "https://i.pinimg.com/originals/e7/6e/8e/e76e8ed6cc838b84a934c6948a5caff7.jpg",
         7554,
         "image",
         "iElylike ..✿◕‿◕✿ஐ✿◕‿◕✿",
         "Local save in /data/mens-fashion",
         "Mens Fashion Blog,Look Fashion,Autumn Fashion,Fashion News,Fashion Sale,80s Fashion,Paris Fashion,Runway Fashion,Fashion Trends",
         "Craig Style",
         "c6fa12f4-0d4a-4b07-a335-5bf9f37f8281"
        ],
        [
         "tattoos",
         "Tattoos are one of the most efficient ways through which one decides to express themselves…",
         1,
         "4k",
         "https://i.pinimg.com/originals/ab/8e/50/ab8e505b04d4abc8f23e273c15f8a65d.jpg",
         8887,
         "image",
         "RapidLeaks",
         "Local save in /data/tattoos",
         "Dream Tattoos,Body Art Tattoos,New Tattoos,Small Tattoos,Cross Tattoos,Random Tattoos,Fashion Tattoos,Bird Tattoos,Fitness Tattoos",
         "25 Ultra Sexy Back Tattoo Ideas For Girls",
         "5df9f6e5-07f5-4ce8-a82e-96586bbc05d8"
        ],
        [
         "beauty",
         "Instantly create the look of lash extensions with this award-winning, best-selling mascara that won't clump, flake or smudge. Available in 3 shades!",
         1,
         "43k",
         "https://i.pinimg.com/videos/thumbnails/originals/69/84/e2/6984e20f3e262098fa9c0614c3453254.0000001.jpg",
         1313,
         "video",
         "Thrive Causemetics",
         "Local save in /data/beauty",
         "N,o, ,T,a,g,s, ,A,v,a,i,l,a,b,l,e",
         "Liquid Lash Extensions Mascara",
         "44662045-e891-4821-8a19-ebe7eedd371a"
        ],
        [
         "beauty",
         "Instantly create the look of lash extensions with this award-winning, best-selling mascara that won't clump, flake or smudge. Available in 3 shades!",
         1,
         "43k",
         "https://i.pinimg.com/videos/thumbnails/originals/69/84/e2/6984e20f3e262098fa9c0614c3453254.0000001.jpg",
         1313,
         "video",
         "Thrive Causemetics",
         "Local save in /data/beauty",
         "N,o, ,T,a,g,s, ,A,v,a,i,l,a,b,l,e",
         "Liquid Lash Extensions Mascara",
         "44662045-e891-4821-8a19-ebe7eedd371a"
        ],
        [
         "vehicles",
         "1937 Jaguar SS100 - 2 1/2 Litre Roadster, one of the most sought after pre-war sports cars",
         1,
         "8k",
         "https://i.pinimg.com/originals/26/81/a7/2681a71bd0c8f7fd0ab79c455338a49a.jpg",
         10625,
         "image",
         "hobbyDB",
         "Local save in /data/vehicles",
         "Jaguar Type E,Jaguar Xk,Jaguar Cars,Jaguar Roadster,Jaguar Sport,Retro Cars,Vintage Cars,Antique Cars,British Sports Cars",
         "Jaguar Type E",
         "d31885b7-742a-4e2a-bbb7-ac5f9d334340"
        ],
        [
         "travel",
         "Best spots to see for travel through Ireland!",
         1,
         "130k",
         "https://i.pinimg.com/originals/c7/50/d3/c750d36524856873d64406652d69b4fb.png",
         9590,
         "image",
         "Fun Life Crisis",
         "Local save in /data/travel",
         "Vacation Ideas,Vacation Spots,Emerald Isle,London England,Travel Guides,Travel Tips,Travel Hacks,Travel Packing,Places To Travel",
         "Top 20 Things To See And Do In Ireland",
         "b849e976-52f6-45d7-8b25-51559318f167"
        ],
        [
         "beauty",
         "Untitled",
         1,
         "0",
         "https://i.pinimg.com/originals/af/c4/59/afc459bd6e1fd8f9aef212504afebf3a.jpg",
         1014,
         "image",
         "Grecia Perales",
         "Local save in /data/beauty",
         "Hair Inspo,Hair Inspiration,Motivation Inspiration,Cl Rapper,Foto Glamour,Kreative Portraits,Classy Aesthetic,Pretty Hairstyles,Hair Looks",
         "Hairstyles & Beauty",
         "9ac94307-bb27-410e-b554-0a0ab6c19847"
        ],
        [
         "vehicles",
         "Nissan GT-R. Sick.",
         1,
         "437",
         "https://i.pinimg.com/originals/0d/29/9f/0d299f3df020395aa7ce8387f40fbeed.jpg",
         10794,
         "image",
         "Ray Uyemura",
         "Local save in /data/vehicles",
         "Lowrider,Old Vintage Cars,Antique Cars,Austin Martin,Nissan Gtr Black,Jaguar,1959 Cadillac,Cadillac Ct6,Old School Cars",
         "TireBuyer",
         "c4bd2577-a7bb-4409-bb7a-17d5ed7e1cf1"
        ],
        [
         "vehicles",
         "Nissan GT-R. Sick.",
         1,
         "437",
         "https://i.pinimg.com/originals/0d/29/9f/0d299f3df020395aa7ce8387f40fbeed.jpg",
         10794,
         "image",
         "Ray Uyemura",
         "Local save in /data/vehicles",
         "Lowrider,Old Vintage Cars,Antique Cars,Austin Martin,Nissan Gtr Black,Jaguar,1959 Cadillac,Cadillac Ct6,Old School Cars",
         "TireBuyer",
         "c4bd2577-a7bb-4409-bb7a-17d5ed7e1cf1"
        ],
        [
         "diy-and-crafts",
         "No description available Story format",
         0,
         "User Info Error",
         "Image src error.",
         3089,
         "multi-video(story page format)",
         "User Info Error",
         "Local save in /data/diy-and-crafts",
         "N,o, ,T,a,g,s, ,A,v,a,i,l,a,b,l,e",
         "No Title Data Available",
         "88f9227e-88d0-4b1c-b0be-bcfc3028b8e2"
        ],
        [
         "mens-fashion",
         "No description available Story format",
         0,
         "User Info Error",
         "Image src error.",
         7528,
         "multi-video(story page format)",
         "User Info Error",
         "Local save in /data/mens-fashion",
         "N,o, ,T,a,g,s, ,A,v,a,i,l,a,b,l,e",
         "No Title Data Available",
         "fbe53c66-3442-4773-b19e-d3ec6f54dddf"
        ],
        [
         "mens-fashion",
         "No description available Story format",
         0,
         "User Info Error",
         "Image src error.",
         7528,
         "multi-video(story page format)",
         "User Info Error",
         "Local save in /data/mens-fashion",
         "N,o, ,T,a,g,s, ,A,v,a,i,l,a,b,l,e",
         "No Title Data Available",
         "fbe53c66-3442-4773-b19e-d3ec6f54dddf"
        ],
        [
         "mens-fashion",
         "No description available Story format",
         0,
         "User Info Error",
         "Image src error.",
         7528,
         "multi-video(story page format)",
         "User Info Error",
         "Local save in /data/mens-fashion",
         "N,o, ,T,a,g,s, ,A,v,a,i,l,a,b,l,e",
         "No Title Data Available",
         "fbe53c66-3442-4773-b19e-d3ec6f54dddf"
        ]
       ],
       "datasetInfos": [],
       "dbfsResultPath": null,
       "isJsonSchema": true,
       "metadata": {},
       "overflow": false,
       "plotOptions": {
        "customPlotOptions": {},
        "displayType": "table",
        "pivotAggregation": null,
        "pivotColumns": null,
        "xColumns": null,
        "yColumns": null
       },
       "removedWidgets": [],
       "schema": [
        {
         "metadata": "{}",
         "name": "category",
         "type": "\"string\""
        },
        {
         "metadata": "{}",
         "name": "description",
         "type": "\"string\""
        },
        {
         "metadata": "{}",
         "name": "downloaded",
         "type": "\"long\""
        },
        {
         "metadata": "{}",
         "name": "follower_count",
         "type": "\"string\""
        },
        {
         "metadata": "{}",
         "name": "image_src",
         "type": "\"string\""
        },
        {
         "metadata": "{}",
         "name": "index",
         "type": "\"long\""
        },
        {
         "metadata": "{}",
         "name": "is_image_or_video",
         "type": "\"string\""
        },
        {
         "metadata": "{}",
         "name": "poster_name",
         "type": "\"string\""
        },
        {
         "metadata": "{}",
         "name": "save_location",
         "type": "\"string\""
        },
        {
         "metadata": "{}",
         "name": "tag_list",
         "type": "\"string\""
        },
        {
         "metadata": "{}",
         "name": "title",
         "type": "\"string\""
        },
        {
         "metadata": "{}",
         "name": "unique_id",
         "type": "\"string\""
        }
       ],
       "type": "table"
      }
     },
     "output_type": "display_data"
    }
   ],
   "source": [
    "# File location and type\n",
    "# Asterisk(*) indicates reading all the content of the specified file that have .json extension\n",
    "file_location =\"dbfs:/mnt/0a1e5630c127/topics/0a1e5630c127.pin/partition=0/*.json\"\n",
    "file_type = \"json\"\n",
    "# Ask Spark to infer the schema\n",
    "infer_schema = \"true\"\n",
    "# Read in JSONs from mounted S3 bucket\n",
    "df = spark.read.format(file_type) \\\n",
    ".option(\"inferSchema\", infer_schema) \\\n",
    ".load(file_location)\n",
    "# Display Spark dataframe to check its content\n",
    "display(df)"
   ]
  }
 ],
 "metadata": {
  "application/vnd.databricks.v1+notebook": {
   "dashboards": [],
   "language": "python",
   "notebookMetadata": {
    "mostRecentlyExecutedCommandWithImplicitDF": {
     "commandId": 2103590923200631,
     "dataframes": [
      "_sqldf"
     ]
    },
    "pythonIndentUnit": 4
   },
   "notebookName": "df_pin",
   "widgets": {}
  }
 },
 "nbformat": 4,
 "nbformat_minor": 0
}
